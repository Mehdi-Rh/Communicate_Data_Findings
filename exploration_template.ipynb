{
 "cells": [
  {
   "cell_type": "markdown",
   "metadata": {},
   "source": [
    "# Ford GoBike System Data Exploration\n",
    "## By Rahal Mehdi Abdelaziz\n",
    "\n",
    "# I. Data Wrangling\n",
    "\n",
    "> This dataset contains bike trip informations from june 2019 to may 2020 (a whole year).\n",
    "Each trip is anonymized and includes:<br>\n",
    "\n",
    "* Trip Duration (seconds)\n",
    "* Start Time and Date\n",
    "* End Time and Date\n",
    "* Start Station ID\n",
    "* Start Station Name\n",
    "* Start Station Latitude\n",
    "* Start Station Longitude\n",
    "* End Station ID\n",
    "* End Station Name\n",
    "* End Station Latitude\n",
    "* End Station Longitude\n",
    "* Bike ID\n",
    "* User Type (Subscriber or Customer – “Subscriber” = Member or “Customer” = Casual)"
   ]
  },
  {
   "cell_type": "markdown",
   "metadata": {},
   "source": [
    "### 1. Gathering Data"
   ]
  },
  {
   "cell_type": "code",
   "execution_count": 1,
   "metadata": {},
   "outputs": [],
   "source": [
    "# import all packages and set plots to be embedded inline\n",
    "import numpy as np\n",
    "import pandas as pd\n",
    "import matplotlib.pyplot as plt\n",
    "import seaborn as sb\n",
    "\n",
    "%matplotlib inline"
   ]
  },
  {
   "cell_type": "markdown",
   "metadata": {},
   "source": [
    "> Load in your dataset and describe its properties through the questions below.\n",
    "Try and motivate your exploration goals through this section."
   ]
  },
  {
   "cell_type": "code",
   "execution_count": 2,
   "metadata": {},
   "outputs": [
    {
     "name": "stderr",
     "output_type": "stream",
     "text": [
      "C:\\Users\\H.E.S\\Anaconda3\\lib\\site-packages\\IPython\\core\\interactiveshell.py:3058: DtypeWarning: Columns (14) have mixed types. Specify dtype option on import or set low_memory=False.\n",
      "  interactivity=interactivity, compiler=compiler, result=result)\n",
      "C:\\Users\\H.E.S\\Anaconda3\\lib\\site-packages\\IPython\\core\\interactiveshell.py:3058: DtypeWarning: Columns (13,14) have mixed types. Specify dtype option on import or set low_memory=False.\n",
      "  interactivity=interactivity, compiler=compiler, result=result)\n",
      "C:\\Users\\H.E.S\\Anaconda3\\lib\\site-packages\\IPython\\core\\interactiveshell.py:3058: DtypeWarning: Columns (13) have mixed types. Specify dtype option on import or set low_memory=False.\n",
      "  interactivity=interactivity, compiler=compiler, result=result)\n"
     ]
    }
   ],
   "source": [
    "df_19_06 = pd.read_csv(\"data/201906-baywheels-tripdata.csv\")\n",
    "df_19_07 = pd.read_csv(\"data/201907-baywheels-tripdata.csv\")\n",
    "df_19_08 = pd.read_csv(\"data/201908-baywheels-tripdata.csv\")\n",
    "df_19_09 = pd.read_csv(\"data/201909-baywheels-tripdata.csv\")\n",
    "df_19_10 = pd.read_csv(\"data/201910-baywheels-tripdata.csv\")\n",
    "df_19_11 = pd.read_csv(\"data/201911-baywheels-tripdata.csv\")\n",
    "df_19_12 = pd.read_csv(\"data/201912-baywheels-tripdata.csv\")\n",
    "df_20_01 = pd.read_csv(\"data/202001-baywheels-tripdata.csv\")\n",
    "df_20_02 = pd.read_csv(\"data/202002-baywheels-tripdata.csv\")\n",
    "df_20_03 = pd.read_csv(\"data/202003-baywheels-tripdata.csv\")\n",
    "df_20_04 = pd.read_csv(\"data/202004-baywheels-tripdata.csv\")\n",
    "df_20_05 = pd.read_csv(\"data/202005-baywheels-tripdata.csv\")"
   ]
  },
  {
   "cell_type": "markdown",
   "metadata": {},
   "source": [
    "First those DataFrame will be combined into two DataFrames because of difference of format before and after 04-2020  \n",
    "* df_1 before 04-20\n",
    "* df_2 after 04-20"
   ]
  },
  {
   "cell_type": "code",
   "execution_count": 3,
   "metadata": {},
   "outputs": [
    {
     "data": {
      "text/html": [
       "<div>\n",
       "<style scoped>\n",
       "    .dataframe tbody tr th:only-of-type {\n",
       "        vertical-align: middle;\n",
       "    }\n",
       "\n",
       "    .dataframe tbody tr th {\n",
       "        vertical-align: top;\n",
       "    }\n",
       "\n",
       "    .dataframe thead th {\n",
       "        text-align: right;\n",
       "    }\n",
       "</style>\n",
       "<table border=\"1\" class=\"dataframe\">\n",
       "  <thead>\n",
       "    <tr style=\"text-align: right;\">\n",
       "      <th></th>\n",
       "      <th>duration_sec</th>\n",
       "      <th>start_time</th>\n",
       "      <th>end_time</th>\n",
       "      <th>start_station_id</th>\n",
       "      <th>start_station_name</th>\n",
       "      <th>start_station_latitude</th>\n",
       "      <th>start_station_longitude</th>\n",
       "      <th>end_station_id</th>\n",
       "      <th>end_station_name</th>\n",
       "      <th>end_station_latitude</th>\n",
       "      <th>end_station_longitude</th>\n",
       "      <th>bike_id</th>\n",
       "      <th>user_type</th>\n",
       "      <th>bike_share_for_all_trip</th>\n",
       "      <th>rental_access_method</th>\n",
       "    </tr>\n",
       "  </thead>\n",
       "  <tbody>\n",
       "    <tr>\n",
       "      <td>0</td>\n",
       "      <td>81695</td>\n",
       "      <td>2019-06-30 18:16:09.7730</td>\n",
       "      <td>2019-07-01 16:57:45.5920</td>\n",
       "      <td>109.0</td>\n",
       "      <td>17th St at Valencia St</td>\n",
       "      <td>37.763316</td>\n",
       "      <td>-122.421904</td>\n",
       "      <td>56.0</td>\n",
       "      <td>Koshland Park</td>\n",
       "      <td>37.773414</td>\n",
       "      <td>-122.427317</td>\n",
       "      <td>1502</td>\n",
       "      <td>Subscriber</td>\n",
       "      <td>No</td>\n",
       "      <td>NaN</td>\n",
       "    </tr>\n",
       "    <tr>\n",
       "      <td>1</td>\n",
       "      <td>74260</td>\n",
       "      <td>2019-06-30 18:09:55.8300</td>\n",
       "      <td>2019-07-01 14:47:36.6810</td>\n",
       "      <td>50.0</td>\n",
       "      <td>2nd St at Townsend St</td>\n",
       "      <td>37.780526</td>\n",
       "      <td>-122.390288</td>\n",
       "      <td>101.0</td>\n",
       "      <td>15th St at Potrero Ave</td>\n",
       "      <td>37.767079</td>\n",
       "      <td>-122.407359</td>\n",
       "      <td>2526</td>\n",
       "      <td>Customer</td>\n",
       "      <td>No</td>\n",
       "      <td>NaN</td>\n",
       "    </tr>\n",
       "    <tr>\n",
       "      <td>2</td>\n",
       "      <td>59603</td>\n",
       "      <td>2019-06-30 15:40:31.0380</td>\n",
       "      <td>2019-07-01 08:13:54.3490</td>\n",
       "      <td>23.0</td>\n",
       "      <td>The Embarcadero at Steuart St</td>\n",
       "      <td>37.791464</td>\n",
       "      <td>-122.391034</td>\n",
       "      <td>30.0</td>\n",
       "      <td>San Francisco Caltrain (Townsend St at 4th St)</td>\n",
       "      <td>37.776598</td>\n",
       "      <td>-122.395282</td>\n",
       "      <td>2427</td>\n",
       "      <td>Subscriber</td>\n",
       "      <td>No</td>\n",
       "      <td>NaN</td>\n",
       "    </tr>\n",
       "    <tr>\n",
       "      <td>3</td>\n",
       "      <td>67932</td>\n",
       "      <td>2019-06-30 12:49:47.7810</td>\n",
       "      <td>2019-07-01 07:42:00.5430</td>\n",
       "      <td>169.0</td>\n",
       "      <td>Bushrod Park</td>\n",
       "      <td>37.846516</td>\n",
       "      <td>-122.265304</td>\n",
       "      <td>248.0</td>\n",
       "      <td>Telegraph Ave at Ashby Ave</td>\n",
       "      <td>37.855956</td>\n",
       "      <td>-122.259795</td>\n",
       "      <td>1261</td>\n",
       "      <td>Customer</td>\n",
       "      <td>No</td>\n",
       "      <td>NaN</td>\n",
       "    </tr>\n",
       "    <tr>\n",
       "      <td>4</td>\n",
       "      <td>48894</td>\n",
       "      <td>2019-06-30 17:21:00.0550</td>\n",
       "      <td>2019-07-01 06:55:54.9960</td>\n",
       "      <td>15.0</td>\n",
       "      <td>San Francisco Ferry Building (Harry Bridges Pl...</td>\n",
       "      <td>37.795392</td>\n",
       "      <td>-122.394203</td>\n",
       "      <td>30.0</td>\n",
       "      <td>San Francisco Caltrain (Townsend St at 4th St)</td>\n",
       "      <td>37.776598</td>\n",
       "      <td>-122.395282</td>\n",
       "      <td>1070</td>\n",
       "      <td>Customer</td>\n",
       "      <td>No</td>\n",
       "      <td>NaN</td>\n",
       "    </tr>\n",
       "  </tbody>\n",
       "</table>\n",
       "</div>"
      ],
      "text/plain": [
       "   duration_sec                start_time                  end_time  \\\n",
       "0         81695  2019-06-30 18:16:09.7730  2019-07-01 16:57:45.5920   \n",
       "1         74260  2019-06-30 18:09:55.8300  2019-07-01 14:47:36.6810   \n",
       "2         59603  2019-06-30 15:40:31.0380  2019-07-01 08:13:54.3490   \n",
       "3         67932  2019-06-30 12:49:47.7810  2019-07-01 07:42:00.5430   \n",
       "4         48894  2019-06-30 17:21:00.0550  2019-07-01 06:55:54.9960   \n",
       "\n",
       "   start_station_id                                 start_station_name  \\\n",
       "0             109.0                             17th St at Valencia St   \n",
       "1              50.0                              2nd St at Townsend St   \n",
       "2              23.0                      The Embarcadero at Steuart St   \n",
       "3             169.0                                       Bushrod Park   \n",
       "4              15.0  San Francisco Ferry Building (Harry Bridges Pl...   \n",
       "\n",
       "   start_station_latitude  start_station_longitude  end_station_id  \\\n",
       "0               37.763316              -122.421904            56.0   \n",
       "1               37.780526              -122.390288           101.0   \n",
       "2               37.791464              -122.391034            30.0   \n",
       "3               37.846516              -122.265304           248.0   \n",
       "4               37.795392              -122.394203            30.0   \n",
       "\n",
       "                                 end_station_name  end_station_latitude  \\\n",
       "0                                   Koshland Park             37.773414   \n",
       "1                          15th St at Potrero Ave             37.767079   \n",
       "2  San Francisco Caltrain (Townsend St at 4th St)             37.776598   \n",
       "3                      Telegraph Ave at Ashby Ave             37.855956   \n",
       "4  San Francisco Caltrain (Townsend St at 4th St)             37.776598   \n",
       "\n",
       "   end_station_longitude  bike_id   user_type bike_share_for_all_trip  \\\n",
       "0            -122.427317     1502  Subscriber                      No   \n",
       "1            -122.407359     2526    Customer                      No   \n",
       "2            -122.395282     2427  Subscriber                      No   \n",
       "3            -122.259795     1261    Customer                      No   \n",
       "4            -122.395282     1070    Customer                      No   \n",
       "\n",
       "  rental_access_method  \n",
       "0                  NaN  \n",
       "1                  NaN  \n",
       "2                  NaN  \n",
       "3                  NaN  \n",
       "4                  NaN  "
      ]
     },
     "execution_count": 3,
     "metadata": {},
     "output_type": "execute_result"
    }
   ],
   "source": [
    "df_1 = pd.concat([df_19_06, df_19_07, df_19_08, df_19_09, df_19_10 , df_19_11, df_19_12, df_20_01, df_20_02, df_20_03], ignore_index = True, sort= False)\n",
    "df_1.head()"
   ]
  },
  {
   "cell_type": "code",
   "execution_count": 4,
   "metadata": {},
   "outputs": [
    {
     "data": {
      "text/html": [
       "<div>\n",
       "<style scoped>\n",
       "    .dataframe tbody tr th:only-of-type {\n",
       "        vertical-align: middle;\n",
       "    }\n",
       "\n",
       "    .dataframe tbody tr th {\n",
       "        vertical-align: top;\n",
       "    }\n",
       "\n",
       "    .dataframe thead th {\n",
       "        text-align: right;\n",
       "    }\n",
       "</style>\n",
       "<table border=\"1\" class=\"dataframe\">\n",
       "  <thead>\n",
       "    <tr style=\"text-align: right;\">\n",
       "      <th></th>\n",
       "      <th>ride_id</th>\n",
       "      <th>rideable_type</th>\n",
       "      <th>started_at</th>\n",
       "      <th>ended_at</th>\n",
       "      <th>start_station_name</th>\n",
       "      <th>start_station_id</th>\n",
       "      <th>end_station_name</th>\n",
       "      <th>end_station_id</th>\n",
       "      <th>start_lat</th>\n",
       "      <th>start_lng</th>\n",
       "      <th>end_lat</th>\n",
       "      <th>end_lng</th>\n",
       "      <th>member_casual</th>\n",
       "      <th>is_equity</th>\n",
       "    </tr>\n",
       "  </thead>\n",
       "  <tbody>\n",
       "    <tr>\n",
       "      <td>0</td>\n",
       "      <td>5A1FF31692371859</td>\n",
       "      <td>electric_bike</td>\n",
       "      <td>2020-04-04 08:28:20</td>\n",
       "      <td>2020-04-04 08:33:34</td>\n",
       "      <td>NaN</td>\n",
       "      <td>NaN</td>\n",
       "      <td>NaN</td>\n",
       "      <td>NaN</td>\n",
       "      <td>37.7692</td>\n",
       "      <td>-122.4209</td>\n",
       "      <td>37.7703</td>\n",
       "      <td>-122.4069</td>\n",
       "      <td>casual</td>\n",
       "      <td>NaN</td>\n",
       "    </tr>\n",
       "    <tr>\n",
       "      <td>1</td>\n",
       "      <td>D8D5BA2D4F051133</td>\n",
       "      <td>electric_bike</td>\n",
       "      <td>2020-04-03 18:55:43</td>\n",
       "      <td>2020-04-03 19:21:05</td>\n",
       "      <td>NaN</td>\n",
       "      <td>NaN</td>\n",
       "      <td>NaN</td>\n",
       "      <td>NaN</td>\n",
       "      <td>37.8023</td>\n",
       "      <td>-122.4244</td>\n",
       "      <td>37.8023</td>\n",
       "      <td>-122.4244</td>\n",
       "      <td>casual</td>\n",
       "      <td>NaN</td>\n",
       "    </tr>\n",
       "    <tr>\n",
       "      <td>2</td>\n",
       "      <td>A3633A9140CA4FF8</td>\n",
       "      <td>electric_bike</td>\n",
       "      <td>2020-04-04 15:11:04</td>\n",
       "      <td>2020-04-04 15:12:21</td>\n",
       "      <td>NaN</td>\n",
       "      <td>NaN</td>\n",
       "      <td>NaN</td>\n",
       "      <td>NaN</td>\n",
       "      <td>37.7667</td>\n",
       "      <td>-122.3961</td>\n",
       "      <td>37.7667</td>\n",
       "      <td>-122.3962</td>\n",
       "      <td>casual</td>\n",
       "      <td>NaN</td>\n",
       "    </tr>\n",
       "    <tr>\n",
       "      <td>3</td>\n",
       "      <td>301F57EB0197A5E0</td>\n",
       "      <td>electric_bike</td>\n",
       "      <td>2020-04-03 20:21:03</td>\n",
       "      <td>2020-04-03 22:08:06</td>\n",
       "      <td>8th St at Ringold St</td>\n",
       "      <td>60.0</td>\n",
       "      <td>NaN</td>\n",
       "      <td>NaN</td>\n",
       "      <td>37.7744</td>\n",
       "      <td>-122.4095</td>\n",
       "      <td>37.7805</td>\n",
       "      <td>-122.4033</td>\n",
       "      <td>casual</td>\n",
       "      <td>NaN</td>\n",
       "    </tr>\n",
       "    <tr>\n",
       "      <td>4</td>\n",
       "      <td>9429C701AF5744B3</td>\n",
       "      <td>electric_bike</td>\n",
       "      <td>2020-04-03 18:39:39</td>\n",
       "      <td>2020-04-03 18:47:19</td>\n",
       "      <td>NaN</td>\n",
       "      <td>NaN</td>\n",
       "      <td>NaN</td>\n",
       "      <td>NaN</td>\n",
       "      <td>37.8027</td>\n",
       "      <td>-122.4433</td>\n",
       "      <td>37.8009</td>\n",
       "      <td>-122.4269</td>\n",
       "      <td>casual</td>\n",
       "      <td>NaN</td>\n",
       "    </tr>\n",
       "  </tbody>\n",
       "</table>\n",
       "</div>"
      ],
      "text/plain": [
       "            ride_id  rideable_type           started_at             ended_at  \\\n",
       "0  5A1FF31692371859  electric_bike  2020-04-04 08:28:20  2020-04-04 08:33:34   \n",
       "1  D8D5BA2D4F051133  electric_bike  2020-04-03 18:55:43  2020-04-03 19:21:05   \n",
       "2  A3633A9140CA4FF8  electric_bike  2020-04-04 15:11:04  2020-04-04 15:12:21   \n",
       "3  301F57EB0197A5E0  electric_bike  2020-04-03 20:21:03  2020-04-03 22:08:06   \n",
       "4  9429C701AF5744B3  electric_bike  2020-04-03 18:39:39  2020-04-03 18:47:19   \n",
       "\n",
       "     start_station_name  start_station_id end_station_name  end_station_id  \\\n",
       "0                   NaN               NaN              NaN             NaN   \n",
       "1                   NaN               NaN              NaN             NaN   \n",
       "2                   NaN               NaN              NaN             NaN   \n",
       "3  8th St at Ringold St              60.0              NaN             NaN   \n",
       "4                   NaN               NaN              NaN             NaN   \n",
       "\n",
       "   start_lat  start_lng  end_lat   end_lng member_casual is_equity  \n",
       "0    37.7692  -122.4209  37.7703 -122.4069        casual       NaN  \n",
       "1    37.8023  -122.4244  37.8023 -122.4244        casual       NaN  \n",
       "2    37.7667  -122.3961  37.7667 -122.3962        casual       NaN  \n",
       "3    37.7744  -122.4095  37.7805 -122.4033        casual       NaN  \n",
       "4    37.8027  -122.4433  37.8009 -122.4269        casual       NaN  "
      ]
     },
     "execution_count": 4,
     "metadata": {},
     "output_type": "execute_result"
    }
   ],
   "source": [
    "df_2 = pd.concat([df_20_04, df_20_05], ignore_index = True, sort= False)\n",
    "df_2.head()"
   ]
  },
  {
   "cell_type": "markdown",
   "metadata": {},
   "source": [
    "### 2. Assessing Data"
   ]
  },
  {
   "cell_type": "code",
   "execution_count": 5,
   "metadata": {},
   "outputs": [
    {
     "data": {
      "text/html": [
       "<div>\n",
       "<style scoped>\n",
       "    .dataframe tbody tr th:only-of-type {\n",
       "        vertical-align: middle;\n",
       "    }\n",
       "\n",
       "    .dataframe tbody tr th {\n",
       "        vertical-align: top;\n",
       "    }\n",
       "\n",
       "    .dataframe thead th {\n",
       "        text-align: right;\n",
       "    }\n",
       "</style>\n",
       "<table border=\"1\" class=\"dataframe\">\n",
       "  <thead>\n",
       "    <tr style=\"text-align: right;\">\n",
       "      <th></th>\n",
       "      <th>duration_sec</th>\n",
       "      <th>start_time</th>\n",
       "      <th>end_time</th>\n",
       "      <th>start_station_id</th>\n",
       "      <th>start_station_name</th>\n",
       "      <th>start_station_latitude</th>\n",
       "      <th>start_station_longitude</th>\n",
       "      <th>end_station_id</th>\n",
       "      <th>end_station_name</th>\n",
       "      <th>end_station_latitude</th>\n",
       "      <th>end_station_longitude</th>\n",
       "      <th>bike_id</th>\n",
       "      <th>user_type</th>\n",
       "      <th>bike_share_for_all_trip</th>\n",
       "      <th>rental_access_method</th>\n",
       "    </tr>\n",
       "  </thead>\n",
       "  <tbody>\n",
       "    <tr>\n",
       "      <td>0</td>\n",
       "      <td>81695</td>\n",
       "      <td>2019-06-30 18:16:09.7730</td>\n",
       "      <td>2019-07-01 16:57:45.5920</td>\n",
       "      <td>109.0</td>\n",
       "      <td>17th St at Valencia St</td>\n",
       "      <td>37.763316</td>\n",
       "      <td>-122.421904</td>\n",
       "      <td>56.0</td>\n",
       "      <td>Koshland Park</td>\n",
       "      <td>37.773414</td>\n",
       "      <td>-122.427317</td>\n",
       "      <td>1502</td>\n",
       "      <td>Subscriber</td>\n",
       "      <td>No</td>\n",
       "      <td>NaN</td>\n",
       "    </tr>\n",
       "  </tbody>\n",
       "</table>\n",
       "</div>"
      ],
      "text/plain": [
       "   duration_sec                start_time                  end_time  \\\n",
       "0         81695  2019-06-30 18:16:09.7730  2019-07-01 16:57:45.5920   \n",
       "\n",
       "   start_station_id      start_station_name  start_station_latitude  \\\n",
       "0             109.0  17th St at Valencia St               37.763316   \n",
       "\n",
       "   start_station_longitude  end_station_id end_station_name  \\\n",
       "0              -122.421904            56.0    Koshland Park   \n",
       "\n",
       "   end_station_latitude  end_station_longitude  bike_id   user_type  \\\n",
       "0             37.773414            -122.427317     1502  Subscriber   \n",
       "\n",
       "  bike_share_for_all_trip rental_access_method  \n",
       "0                      No                  NaN  "
      ]
     },
     "execution_count": 5,
     "metadata": {},
     "output_type": "execute_result"
    }
   ],
   "source": [
    "df_19_06.head(1)"
   ]
  },
  {
   "cell_type": "code",
   "execution_count": 6,
   "metadata": {},
   "outputs": [
    {
     "data": {
      "text/html": [
       "<div>\n",
       "<style scoped>\n",
       "    .dataframe tbody tr th:only-of-type {\n",
       "        vertical-align: middle;\n",
       "    }\n",
       "\n",
       "    .dataframe tbody tr th {\n",
       "        vertical-align: top;\n",
       "    }\n",
       "\n",
       "    .dataframe thead th {\n",
       "        text-align: right;\n",
       "    }\n",
       "</style>\n",
       "<table border=\"1\" class=\"dataframe\">\n",
       "  <thead>\n",
       "    <tr style=\"text-align: right;\">\n",
       "      <th></th>\n",
       "      <th>duration_sec</th>\n",
       "      <th>start_time</th>\n",
       "      <th>end_time</th>\n",
       "      <th>start_station_id</th>\n",
       "      <th>start_station_name</th>\n",
       "      <th>start_station_latitude</th>\n",
       "      <th>start_station_longitude</th>\n",
       "      <th>end_station_id</th>\n",
       "      <th>end_station_name</th>\n",
       "      <th>end_station_latitude</th>\n",
       "      <th>end_station_longitude</th>\n",
       "      <th>bike_id</th>\n",
       "      <th>user_type</th>\n",
       "      <th>bike_share_for_all_trip</th>\n",
       "      <th>rental_access_method</th>\n",
       "    </tr>\n",
       "  </thead>\n",
       "  <tbody>\n",
       "    <tr>\n",
       "      <td>0</td>\n",
       "      <td>85457</td>\n",
       "      <td>2019-07-31 09:25:37.3410</td>\n",
       "      <td>2019-08-01 09:09:54.6000</td>\n",
       "      <td>36.0</td>\n",
       "      <td>Folsom St at 3rd St</td>\n",
       "      <td>37.78383</td>\n",
       "      <td>-122.39887</td>\n",
       "      <td>344.0</td>\n",
       "      <td>16th St Depot</td>\n",
       "      <td>37.766349</td>\n",
       "      <td>-122.396292</td>\n",
       "      <td>3491</td>\n",
       "      <td>Customer</td>\n",
       "      <td>No</td>\n",
       "      <td>NaN</td>\n",
       "    </tr>\n",
       "  </tbody>\n",
       "</table>\n",
       "</div>"
      ],
      "text/plain": [
       "   duration_sec                start_time                  end_time  \\\n",
       "0         85457  2019-07-31 09:25:37.3410  2019-08-01 09:09:54.6000   \n",
       "\n",
       "   start_station_id   start_station_name  start_station_latitude  \\\n",
       "0              36.0  Folsom St at 3rd St                37.78383   \n",
       "\n",
       "   start_station_longitude  end_station_id end_station_name  \\\n",
       "0               -122.39887           344.0    16th St Depot   \n",
       "\n",
       "   end_station_latitude  end_station_longitude  bike_id user_type  \\\n",
       "0             37.766349            -122.396292     3491  Customer   \n",
       "\n",
       "  bike_share_for_all_trip rental_access_method  \n",
       "0                      No                  NaN  "
      ]
     },
     "execution_count": 6,
     "metadata": {},
     "output_type": "execute_result"
    }
   ],
   "source": [
    "df_19_07.head(1)"
   ]
  },
  {
   "cell_type": "code",
   "execution_count": 7,
   "metadata": {},
   "outputs": [
    {
     "data": {
      "text/html": [
       "<div>\n",
       "<style scoped>\n",
       "    .dataframe tbody tr th:only-of-type {\n",
       "        vertical-align: middle;\n",
       "    }\n",
       "\n",
       "    .dataframe tbody tr th {\n",
       "        vertical-align: top;\n",
       "    }\n",
       "\n",
       "    .dataframe thead th {\n",
       "        text-align: right;\n",
       "    }\n",
       "</style>\n",
       "<table border=\"1\" class=\"dataframe\">\n",
       "  <thead>\n",
       "    <tr style=\"text-align: right;\">\n",
       "      <th></th>\n",
       "      <th>duration_sec</th>\n",
       "      <th>start_time</th>\n",
       "      <th>end_time</th>\n",
       "      <th>start_station_id</th>\n",
       "      <th>start_station_name</th>\n",
       "      <th>start_station_latitude</th>\n",
       "      <th>start_station_longitude</th>\n",
       "      <th>end_station_id</th>\n",
       "      <th>end_station_name</th>\n",
       "      <th>end_station_latitude</th>\n",
       "      <th>end_station_longitude</th>\n",
       "      <th>bike_id</th>\n",
       "      <th>user_type</th>\n",
       "      <th>bike_share_for_all_trip</th>\n",
       "    </tr>\n",
       "  </thead>\n",
       "  <tbody>\n",
       "    <tr>\n",
       "      <td>0</td>\n",
       "      <td>68145</td>\n",
       "      <td>2019-08-31 21:27:42.2530</td>\n",
       "      <td>2019-09-01 16:23:27.4920</td>\n",
       "      <td>249</td>\n",
       "      <td>Russell St at College Ave</td>\n",
       "      <td>37.858473</td>\n",
       "      <td>-122.253253</td>\n",
       "      <td>247</td>\n",
       "      <td>Fulton St at Bancroft Way</td>\n",
       "      <td>37.867789</td>\n",
       "      <td>-122.265896</td>\n",
       "      <td>3112</td>\n",
       "      <td>Customer</td>\n",
       "      <td>No</td>\n",
       "    </tr>\n",
       "  </tbody>\n",
       "</table>\n",
       "</div>"
      ],
      "text/plain": [
       "   duration_sec                start_time                  end_time  \\\n",
       "0         68145  2019-08-31 21:27:42.2530  2019-09-01 16:23:27.4920   \n",
       "\n",
       "   start_station_id         start_station_name  start_station_latitude  \\\n",
       "0               249  Russell St at College Ave               37.858473   \n",
       "\n",
       "   start_station_longitude  end_station_id           end_station_name  \\\n",
       "0              -122.253253             247  Fulton St at Bancroft Way   \n",
       "\n",
       "   end_station_latitude  end_station_longitude  bike_id user_type  \\\n",
       "0             37.867789            -122.265896     3112  Customer   \n",
       "\n",
       "  bike_share_for_all_trip  \n",
       "0                      No  "
      ]
     },
     "execution_count": 7,
     "metadata": {},
     "output_type": "execute_result"
    }
   ],
   "source": [
    "df_19_08.head(1)"
   ]
  },
  {
   "cell_type": "code",
   "execution_count": 8,
   "metadata": {},
   "outputs": [
    {
     "data": {
      "text/html": [
       "<div>\n",
       "<style scoped>\n",
       "    .dataframe tbody tr th:only-of-type {\n",
       "        vertical-align: middle;\n",
       "    }\n",
       "\n",
       "    .dataframe tbody tr th {\n",
       "        vertical-align: top;\n",
       "    }\n",
       "\n",
       "    .dataframe thead th {\n",
       "        text-align: right;\n",
       "    }\n",
       "</style>\n",
       "<table border=\"1\" class=\"dataframe\">\n",
       "  <thead>\n",
       "    <tr style=\"text-align: right;\">\n",
       "      <th></th>\n",
       "      <th>duration_sec</th>\n",
       "      <th>start_time</th>\n",
       "      <th>end_time</th>\n",
       "      <th>start_station_id</th>\n",
       "      <th>start_station_name</th>\n",
       "      <th>start_station_latitude</th>\n",
       "      <th>start_station_longitude</th>\n",
       "      <th>end_station_id</th>\n",
       "      <th>end_station_name</th>\n",
       "      <th>end_station_latitude</th>\n",
       "      <th>end_station_longitude</th>\n",
       "      <th>bike_id</th>\n",
       "      <th>user_type</th>\n",
       "      <th>bike_share_for_all_trip</th>\n",
       "    </tr>\n",
       "  </thead>\n",
       "  <tbody>\n",
       "    <tr>\n",
       "      <td>0</td>\n",
       "      <td>60863</td>\n",
       "      <td>2019-09-30 11:48:02.7100</td>\n",
       "      <td>2019-10-01 04:42:25.8640</td>\n",
       "      <td>465</td>\n",
       "      <td>San Francisco Caltrain Station (King St at 4th...</td>\n",
       "      <td>37.776329</td>\n",
       "      <td>-122.394438</td>\n",
       "      <td>465</td>\n",
       "      <td>San Francisco Caltrain Station (King St at 4th...</td>\n",
       "      <td>37.776329</td>\n",
       "      <td>-122.394438</td>\n",
       "      <td>12904</td>\n",
       "      <td>Customer</td>\n",
       "      <td>No</td>\n",
       "    </tr>\n",
       "  </tbody>\n",
       "</table>\n",
       "</div>"
      ],
      "text/plain": [
       "   duration_sec                start_time                  end_time  \\\n",
       "0         60863  2019-09-30 11:48:02.7100  2019-10-01 04:42:25.8640   \n",
       "\n",
       "   start_station_id                                 start_station_name  \\\n",
       "0               465  San Francisco Caltrain Station (King St at 4th...   \n",
       "\n",
       "   start_station_latitude  start_station_longitude  end_station_id  \\\n",
       "0               37.776329              -122.394438             465   \n",
       "\n",
       "                                    end_station_name  end_station_latitude  \\\n",
       "0  San Francisco Caltrain Station (King St at 4th...             37.776329   \n",
       "\n",
       "   end_station_longitude  bike_id user_type bike_share_for_all_trip  \n",
       "0            -122.394438    12904  Customer                      No  "
      ]
     },
     "execution_count": 8,
     "metadata": {},
     "output_type": "execute_result"
    }
   ],
   "source": [
    "df_19_09.head(1)"
   ]
  },
  {
   "cell_type": "code",
   "execution_count": 9,
   "metadata": {},
   "outputs": [
    {
     "data": {
      "text/html": [
       "<div>\n",
       "<style scoped>\n",
       "    .dataframe tbody tr th:only-of-type {\n",
       "        vertical-align: middle;\n",
       "    }\n",
       "\n",
       "    .dataframe tbody tr th {\n",
       "        vertical-align: top;\n",
       "    }\n",
       "\n",
       "    .dataframe thead th {\n",
       "        text-align: right;\n",
       "    }\n",
       "</style>\n",
       "<table border=\"1\" class=\"dataframe\">\n",
       "  <thead>\n",
       "    <tr style=\"text-align: right;\">\n",
       "      <th></th>\n",
       "      <th>duration_sec</th>\n",
       "      <th>start_time</th>\n",
       "      <th>end_time</th>\n",
       "      <th>start_station_id</th>\n",
       "      <th>start_station_name</th>\n",
       "      <th>start_station_latitude</th>\n",
       "      <th>start_station_longitude</th>\n",
       "      <th>end_station_id</th>\n",
       "      <th>end_station_name</th>\n",
       "      <th>end_station_latitude</th>\n",
       "      <th>end_station_longitude</th>\n",
       "      <th>bike_id</th>\n",
       "      <th>user_type</th>\n",
       "      <th>bike_share_for_all_trip</th>\n",
       "    </tr>\n",
       "  </thead>\n",
       "  <tbody>\n",
       "    <tr>\n",
       "      <td>0</td>\n",
       "      <td>62337</td>\n",
       "      <td>2019-10-31 16:25:01.5970</td>\n",
       "      <td>2019-11-01 09:43:59.0290</td>\n",
       "      <td>148</td>\n",
       "      <td>Horton St at 40th St</td>\n",
       "      <td>37.829705</td>\n",
       "      <td>-122.28761</td>\n",
       "      <td>385</td>\n",
       "      <td>Woolsey St at Sacramento St</td>\n",
       "      <td>37.850578</td>\n",
       "      <td>-122.278175</td>\n",
       "      <td>12222</td>\n",
       "      <td>Customer</td>\n",
       "      <td>No</td>\n",
       "    </tr>\n",
       "  </tbody>\n",
       "</table>\n",
       "</div>"
      ],
      "text/plain": [
       "   duration_sec                start_time                  end_time  \\\n",
       "0         62337  2019-10-31 16:25:01.5970  2019-11-01 09:43:59.0290   \n",
       "\n",
       "   start_station_id    start_station_name  start_station_latitude  \\\n",
       "0               148  Horton St at 40th St               37.829705   \n",
       "\n",
       "   start_station_longitude  end_station_id             end_station_name  \\\n",
       "0               -122.28761             385  Woolsey St at Sacramento St   \n",
       "\n",
       "   end_station_latitude  end_station_longitude  bike_id user_type  \\\n",
       "0             37.850578            -122.278175    12222  Customer   \n",
       "\n",
       "  bike_share_for_all_trip  \n",
       "0                      No  "
      ]
     },
     "execution_count": 9,
     "metadata": {},
     "output_type": "execute_result"
    }
   ],
   "source": [
    "df_19_10.head(1)"
   ]
  },
  {
   "cell_type": "code",
   "execution_count": 10,
   "metadata": {},
   "outputs": [
    {
     "data": {
      "text/html": [
       "<div>\n",
       "<style scoped>\n",
       "    .dataframe tbody tr th:only-of-type {\n",
       "        vertical-align: middle;\n",
       "    }\n",
       "\n",
       "    .dataframe tbody tr th {\n",
       "        vertical-align: top;\n",
       "    }\n",
       "\n",
       "    .dataframe thead th {\n",
       "        text-align: right;\n",
       "    }\n",
       "</style>\n",
       "<table border=\"1\" class=\"dataframe\">\n",
       "  <thead>\n",
       "    <tr style=\"text-align: right;\">\n",
       "      <th></th>\n",
       "      <th>duration_sec</th>\n",
       "      <th>start_time</th>\n",
       "      <th>end_time</th>\n",
       "      <th>start_station_id</th>\n",
       "      <th>start_station_name</th>\n",
       "      <th>start_station_latitude</th>\n",
       "      <th>start_station_longitude</th>\n",
       "      <th>end_station_id</th>\n",
       "      <th>end_station_name</th>\n",
       "      <th>end_station_latitude</th>\n",
       "      <th>end_station_longitude</th>\n",
       "      <th>bike_id</th>\n",
       "      <th>user_type</th>\n",
       "      <th>bike_share_for_all_trip</th>\n",
       "      <th>rental_access_method</th>\n",
       "    </tr>\n",
       "  </thead>\n",
       "  <tbody>\n",
       "    <tr>\n",
       "      <td>0</td>\n",
       "      <td>707</td>\n",
       "      <td>2019-11-30 23:54:47.2970</td>\n",
       "      <td>2019-12-01 00:06:34.3780</td>\n",
       "      <td>30.0</td>\n",
       "      <td>San Francisco Caltrain (Townsend St at 4th St)</td>\n",
       "      <td>37.776598</td>\n",
       "      <td>-122.395282</td>\n",
       "      <td>4.0</td>\n",
       "      <td>Cyril Magnin St at Ellis St</td>\n",
       "      <td>37.785881</td>\n",
       "      <td>-122.408915</td>\n",
       "      <td>12077</td>\n",
       "      <td>Customer</td>\n",
       "      <td>No</td>\n",
       "      <td>NaN</td>\n",
       "    </tr>\n",
       "  </tbody>\n",
       "</table>\n",
       "</div>"
      ],
      "text/plain": [
       "   duration_sec                start_time                  end_time  \\\n",
       "0           707  2019-11-30 23:54:47.2970  2019-12-01 00:06:34.3780   \n",
       "\n",
       "   start_station_id                              start_station_name  \\\n",
       "0              30.0  San Francisco Caltrain (Townsend St at 4th St)   \n",
       "\n",
       "   start_station_latitude  start_station_longitude  end_station_id  \\\n",
       "0               37.776598              -122.395282             4.0   \n",
       "\n",
       "              end_station_name  end_station_latitude  end_station_longitude  \\\n",
       "0  Cyril Magnin St at Ellis St             37.785881            -122.408915   \n",
       "\n",
       "   bike_id user_type bike_share_for_all_trip rental_access_method  \n",
       "0    12077  Customer                      No                  NaN  "
      ]
     },
     "execution_count": 10,
     "metadata": {},
     "output_type": "execute_result"
    }
   ],
   "source": [
    "df_19_11.head(1)"
   ]
  },
  {
   "cell_type": "code",
   "execution_count": 11,
   "metadata": {},
   "outputs": [
    {
     "data": {
      "text/html": [
       "<div>\n",
       "<style scoped>\n",
       "    .dataframe tbody tr th:only-of-type {\n",
       "        vertical-align: middle;\n",
       "    }\n",
       "\n",
       "    .dataframe tbody tr th {\n",
       "        vertical-align: top;\n",
       "    }\n",
       "\n",
       "    .dataframe thead th {\n",
       "        text-align: right;\n",
       "    }\n",
       "</style>\n",
       "<table border=\"1\" class=\"dataframe\">\n",
       "  <thead>\n",
       "    <tr style=\"text-align: right;\">\n",
       "      <th></th>\n",
       "      <th>duration_sec</th>\n",
       "      <th>start_time</th>\n",
       "      <th>end_time</th>\n",
       "      <th>start_station_id</th>\n",
       "      <th>start_station_name</th>\n",
       "      <th>start_station_latitude</th>\n",
       "      <th>start_station_longitude</th>\n",
       "      <th>end_station_id</th>\n",
       "      <th>end_station_name</th>\n",
       "      <th>end_station_latitude</th>\n",
       "      <th>end_station_longitude</th>\n",
       "      <th>bike_id</th>\n",
       "      <th>user_type</th>\n",
       "      <th>rental_access_method</th>\n",
       "    </tr>\n",
       "  </thead>\n",
       "  <tbody>\n",
       "    <tr>\n",
       "      <td>0</td>\n",
       "      <td>66600</td>\n",
       "      <td>2019-12-31 14:28:50.2860</td>\n",
       "      <td>2020-01-01 08:58:51.2500</td>\n",
       "      <td>364.0</td>\n",
       "      <td>China Basin St at 3rd St</td>\n",
       "      <td>37.772</td>\n",
       "      <td>-122.38997</td>\n",
       "      <td>349.0</td>\n",
       "      <td>Howard St at Mary St</td>\n",
       "      <td>37.78101</td>\n",
       "      <td>-122.405666</td>\n",
       "      <td>12085</td>\n",
       "      <td>Customer</td>\n",
       "      <td>NaN</td>\n",
       "    </tr>\n",
       "  </tbody>\n",
       "</table>\n",
       "</div>"
      ],
      "text/plain": [
       "   duration_sec                start_time                  end_time  \\\n",
       "0         66600  2019-12-31 14:28:50.2860  2020-01-01 08:58:51.2500   \n",
       "\n",
       "   start_station_id        start_station_name  start_station_latitude  \\\n",
       "0             364.0  China Basin St at 3rd St                  37.772   \n",
       "\n",
       "   start_station_longitude  end_station_id      end_station_name  \\\n",
       "0               -122.38997           349.0  Howard St at Mary St   \n",
       "\n",
       "   end_station_latitude  end_station_longitude  bike_id user_type  \\\n",
       "0              37.78101            -122.405666    12085  Customer   \n",
       "\n",
       "  rental_access_method  \n",
       "0                  NaN  "
      ]
     },
     "execution_count": 11,
     "metadata": {},
     "output_type": "execute_result"
    }
   ],
   "source": [
    "df_19_12.head(1)"
   ]
  },
  {
   "cell_type": "code",
   "execution_count": 12,
   "metadata": {},
   "outputs": [
    {
     "data": {
      "text/html": [
       "<div>\n",
       "<style scoped>\n",
       "    .dataframe tbody tr th:only-of-type {\n",
       "        vertical-align: middle;\n",
       "    }\n",
       "\n",
       "    .dataframe tbody tr th {\n",
       "        vertical-align: top;\n",
       "    }\n",
       "\n",
       "    .dataframe thead th {\n",
       "        text-align: right;\n",
       "    }\n",
       "</style>\n",
       "<table border=\"1\" class=\"dataframe\">\n",
       "  <thead>\n",
       "    <tr style=\"text-align: right;\">\n",
       "      <th></th>\n",
       "      <th>duration_sec</th>\n",
       "      <th>start_time</th>\n",
       "      <th>end_time</th>\n",
       "      <th>start_station_id</th>\n",
       "      <th>start_station_name</th>\n",
       "      <th>start_station_latitude</th>\n",
       "      <th>start_station_longitude</th>\n",
       "      <th>end_station_id</th>\n",
       "      <th>end_station_name</th>\n",
       "      <th>end_station_latitude</th>\n",
       "      <th>end_station_longitude</th>\n",
       "      <th>bike_id</th>\n",
       "      <th>user_type</th>\n",
       "      <th>rental_access_method</th>\n",
       "    </tr>\n",
       "  </thead>\n",
       "  <tbody>\n",
       "    <tr>\n",
       "      <td>0</td>\n",
       "      <td>83118</td>\n",
       "      <td>2020-01-31 15:23:47.7330</td>\n",
       "      <td>2020-02-01 14:29:06.2630</td>\n",
       "      <td>400.0</td>\n",
       "      <td>Buchanan St at North Point St</td>\n",
       "      <td>37.804272</td>\n",
       "      <td>-122.433537</td>\n",
       "      <td>400.0</td>\n",
       "      <td>Buchanan St at North Point St</td>\n",
       "      <td>37.804272</td>\n",
       "      <td>-122.433537</td>\n",
       "      <td>13052</td>\n",
       "      <td>Customer</td>\n",
       "      <td>NaN</td>\n",
       "    </tr>\n",
       "  </tbody>\n",
       "</table>\n",
       "</div>"
      ],
      "text/plain": [
       "   duration_sec                start_time                  end_time  \\\n",
       "0         83118  2020-01-31 15:23:47.7330  2020-02-01 14:29:06.2630   \n",
       "\n",
       "   start_station_id             start_station_name  start_station_latitude  \\\n",
       "0             400.0  Buchanan St at North Point St               37.804272   \n",
       "\n",
       "   start_station_longitude  end_station_id               end_station_name  \\\n",
       "0              -122.433537           400.0  Buchanan St at North Point St   \n",
       "\n",
       "   end_station_latitude  end_station_longitude  bike_id user_type  \\\n",
       "0             37.804272            -122.433537    13052  Customer   \n",
       "\n",
       "  rental_access_method  \n",
       "0                  NaN  "
      ]
     },
     "execution_count": 12,
     "metadata": {},
     "output_type": "execute_result"
    }
   ],
   "source": [
    "df_20_01.head(1)"
   ]
  },
  {
   "cell_type": "code",
   "execution_count": 13,
   "metadata": {},
   "outputs": [
    {
     "data": {
      "text/html": [
       "<div>\n",
       "<style scoped>\n",
       "    .dataframe tbody tr th:only-of-type {\n",
       "        vertical-align: middle;\n",
       "    }\n",
       "\n",
       "    .dataframe tbody tr th {\n",
       "        vertical-align: top;\n",
       "    }\n",
       "\n",
       "    .dataframe thead th {\n",
       "        text-align: right;\n",
       "    }\n",
       "</style>\n",
       "<table border=\"1\" class=\"dataframe\">\n",
       "  <thead>\n",
       "    <tr style=\"text-align: right;\">\n",
       "      <th></th>\n",
       "      <th>duration_sec</th>\n",
       "      <th>start_time</th>\n",
       "      <th>end_time</th>\n",
       "      <th>start_station_id</th>\n",
       "      <th>start_station_name</th>\n",
       "      <th>start_station_latitude</th>\n",
       "      <th>start_station_longitude</th>\n",
       "      <th>end_station_id</th>\n",
       "      <th>end_station_name</th>\n",
       "      <th>end_station_latitude</th>\n",
       "      <th>end_station_longitude</th>\n",
       "      <th>bike_id</th>\n",
       "      <th>user_type</th>\n",
       "      <th>rental_access_method</th>\n",
       "    </tr>\n",
       "  </thead>\n",
       "  <tbody>\n",
       "    <tr>\n",
       "      <td>0</td>\n",
       "      <td>62083</td>\n",
       "      <td>2020-02-29 18:32:30.5750</td>\n",
       "      <td>2020-03-01 11:47:14.0850</td>\n",
       "      <td>176.0</td>\n",
       "      <td>MacArthur BART Station</td>\n",
       "      <td>37.82841</td>\n",
       "      <td>-122.266315</td>\n",
       "      <td>267.0</td>\n",
       "      <td>Derby St at College Ave</td>\n",
       "      <td>37.861804</td>\n",
       "      <td>-122.253569</td>\n",
       "      <td>1993</td>\n",
       "      <td>Customer</td>\n",
       "      <td>NaN</td>\n",
       "    </tr>\n",
       "  </tbody>\n",
       "</table>\n",
       "</div>"
      ],
      "text/plain": [
       "   duration_sec                start_time                  end_time  \\\n",
       "0         62083  2020-02-29 18:32:30.5750  2020-03-01 11:47:14.0850   \n",
       "\n",
       "   start_station_id      start_station_name  start_station_latitude  \\\n",
       "0             176.0  MacArthur BART Station                37.82841   \n",
       "\n",
       "   start_station_longitude  end_station_id         end_station_name  \\\n",
       "0              -122.266315           267.0  Derby St at College Ave   \n",
       "\n",
       "   end_station_latitude  end_station_longitude  bike_id user_type  \\\n",
       "0             37.861804            -122.253569     1993  Customer   \n",
       "\n",
       "  rental_access_method  \n",
       "0                  NaN  "
      ]
     },
     "execution_count": 13,
     "metadata": {},
     "output_type": "execute_result"
    }
   ],
   "source": [
    "df_20_02.head(1)"
   ]
  },
  {
   "cell_type": "code",
   "execution_count": 14,
   "metadata": {},
   "outputs": [
    {
     "data": {
      "text/html": [
       "<div>\n",
       "<style scoped>\n",
       "    .dataframe tbody tr th:only-of-type {\n",
       "        vertical-align: middle;\n",
       "    }\n",
       "\n",
       "    .dataframe tbody tr th {\n",
       "        vertical-align: top;\n",
       "    }\n",
       "\n",
       "    .dataframe thead th {\n",
       "        text-align: right;\n",
       "    }\n",
       "</style>\n",
       "<table border=\"1\" class=\"dataframe\">\n",
       "  <thead>\n",
       "    <tr style=\"text-align: right;\">\n",
       "      <th></th>\n",
       "      <th>duration_sec</th>\n",
       "      <th>start_time</th>\n",
       "      <th>end_time</th>\n",
       "      <th>start_station_id</th>\n",
       "      <th>start_station_name</th>\n",
       "      <th>start_station_latitude</th>\n",
       "      <th>start_station_longitude</th>\n",
       "      <th>end_station_id</th>\n",
       "      <th>end_station_name</th>\n",
       "      <th>end_station_latitude</th>\n",
       "      <th>end_station_longitude</th>\n",
       "      <th>bike_id</th>\n",
       "      <th>user_type</th>\n",
       "      <th>rental_access_method</th>\n",
       "    </tr>\n",
       "  </thead>\n",
       "  <tbody>\n",
       "    <tr>\n",
       "      <td>0</td>\n",
       "      <td>35187</td>\n",
       "      <td>2020-03-31 20:42:10.0790</td>\n",
       "      <td>2020-04-01 06:28:37.8440</td>\n",
       "      <td>462.0</td>\n",
       "      <td>Cruise Terminal at Pier 27</td>\n",
       "      <td>37.804648</td>\n",
       "      <td>-122.402087</td>\n",
       "      <td>24.0</td>\n",
       "      <td>Spear St at Folsom St</td>\n",
       "      <td>37.789677</td>\n",
       "      <td>-122.390428</td>\n",
       "      <td>10982</td>\n",
       "      <td>Customer</td>\n",
       "      <td>NaN</td>\n",
       "    </tr>\n",
       "  </tbody>\n",
       "</table>\n",
       "</div>"
      ],
      "text/plain": [
       "   duration_sec                start_time                  end_time  \\\n",
       "0         35187  2020-03-31 20:42:10.0790  2020-04-01 06:28:37.8440   \n",
       "\n",
       "   start_station_id          start_station_name  start_station_latitude  \\\n",
       "0             462.0  Cruise Terminal at Pier 27               37.804648   \n",
       "\n",
       "   start_station_longitude  end_station_id       end_station_name  \\\n",
       "0              -122.402087            24.0  Spear St at Folsom St   \n",
       "\n",
       "   end_station_latitude  end_station_longitude  bike_id user_type  \\\n",
       "0             37.789677            -122.390428    10982  Customer   \n",
       "\n",
       "  rental_access_method  \n",
       "0                  NaN  "
      ]
     },
     "execution_count": 14,
     "metadata": {},
     "output_type": "execute_result"
    }
   ],
   "source": [
    "df_20_03.head(1)"
   ]
  },
  {
   "cell_type": "code",
   "execution_count": 15,
   "metadata": {},
   "outputs": [
    {
     "data": {
      "text/html": [
       "<div>\n",
       "<style scoped>\n",
       "    .dataframe tbody tr th:only-of-type {\n",
       "        vertical-align: middle;\n",
       "    }\n",
       "\n",
       "    .dataframe tbody tr th {\n",
       "        vertical-align: top;\n",
       "    }\n",
       "\n",
       "    .dataframe thead th {\n",
       "        text-align: right;\n",
       "    }\n",
       "</style>\n",
       "<table border=\"1\" class=\"dataframe\">\n",
       "  <thead>\n",
       "    <tr style=\"text-align: right;\">\n",
       "      <th></th>\n",
       "      <th>ride_id</th>\n",
       "      <th>rideable_type</th>\n",
       "      <th>started_at</th>\n",
       "      <th>ended_at</th>\n",
       "      <th>start_station_name</th>\n",
       "      <th>start_station_id</th>\n",
       "      <th>end_station_name</th>\n",
       "      <th>end_station_id</th>\n",
       "      <th>start_lat</th>\n",
       "      <th>start_lng</th>\n",
       "      <th>end_lat</th>\n",
       "      <th>end_lng</th>\n",
       "      <th>member_casual</th>\n",
       "    </tr>\n",
       "  </thead>\n",
       "  <tbody>\n",
       "    <tr>\n",
       "      <td>0</td>\n",
       "      <td>5A1FF31692371859</td>\n",
       "      <td>electric_bike</td>\n",
       "      <td>2020-04-04 08:28:20</td>\n",
       "      <td>2020-04-04 08:33:34</td>\n",
       "      <td>NaN</td>\n",
       "      <td>NaN</td>\n",
       "      <td>NaN</td>\n",
       "      <td>NaN</td>\n",
       "      <td>37.7692</td>\n",
       "      <td>-122.4209</td>\n",
       "      <td>37.7703</td>\n",
       "      <td>-122.4069</td>\n",
       "      <td>casual</td>\n",
       "    </tr>\n",
       "  </tbody>\n",
       "</table>\n",
       "</div>"
      ],
      "text/plain": [
       "            ride_id  rideable_type           started_at             ended_at  \\\n",
       "0  5A1FF31692371859  electric_bike  2020-04-04 08:28:20  2020-04-04 08:33:34   \n",
       "\n",
       "  start_station_name  start_station_id end_station_name  end_station_id  \\\n",
       "0                NaN               NaN              NaN             NaN   \n",
       "\n",
       "   start_lat  start_lng  end_lat   end_lng member_casual  \n",
       "0    37.7692  -122.4209  37.7703 -122.4069        casual  "
      ]
     },
     "execution_count": 15,
     "metadata": {},
     "output_type": "execute_result"
    }
   ],
   "source": [
    "df_20_04.head(1)"
   ]
  },
  {
   "cell_type": "code",
   "execution_count": 16,
   "metadata": {},
   "outputs": [
    {
     "data": {
      "text/html": [
       "<div>\n",
       "<style scoped>\n",
       "    .dataframe tbody tr th:only-of-type {\n",
       "        vertical-align: middle;\n",
       "    }\n",
       "\n",
       "    .dataframe tbody tr th {\n",
       "        vertical-align: top;\n",
       "    }\n",
       "\n",
       "    .dataframe thead th {\n",
       "        text-align: right;\n",
       "    }\n",
       "</style>\n",
       "<table border=\"1\" class=\"dataframe\">\n",
       "  <thead>\n",
       "    <tr style=\"text-align: right;\">\n",
       "      <th></th>\n",
       "      <th>ride_id</th>\n",
       "      <th>rideable_type</th>\n",
       "      <th>started_at</th>\n",
       "      <th>ended_at</th>\n",
       "      <th>start_station_name</th>\n",
       "      <th>start_station_id</th>\n",
       "      <th>end_station_name</th>\n",
       "      <th>end_station_id</th>\n",
       "      <th>start_lat</th>\n",
       "      <th>start_lng</th>\n",
       "      <th>end_lat</th>\n",
       "      <th>end_lng</th>\n",
       "      <th>member_casual</th>\n",
       "      <th>is_equity</th>\n",
       "    </tr>\n",
       "  </thead>\n",
       "  <tbody>\n",
       "    <tr>\n",
       "      <td>0</td>\n",
       "      <td>BA4B4D93677877E8</td>\n",
       "      <td>electric_bike</td>\n",
       "      <td>2020-05-18 22:16:06</td>\n",
       "      <td>2020-05-18 22:28:20</td>\n",
       "      <td>NaN</td>\n",
       "      <td>NaN</td>\n",
       "      <td>NaN</td>\n",
       "      <td>NaN</td>\n",
       "      <td>37.3443</td>\n",
       "      <td>-121.9218</td>\n",
       "      <td>37.3443</td>\n",
       "      <td>-121.9217</td>\n",
       "      <td>casual</td>\n",
       "      <td>False</td>\n",
       "    </tr>\n",
       "  </tbody>\n",
       "</table>\n",
       "</div>"
      ],
      "text/plain": [
       "            ride_id  rideable_type           started_at             ended_at  \\\n",
       "0  BA4B4D93677877E8  electric_bike  2020-05-18 22:16:06  2020-05-18 22:28:20   \n",
       "\n",
       "  start_station_name  start_station_id end_station_name  end_station_id  \\\n",
       "0                NaN               NaN              NaN             NaN   \n",
       "\n",
       "   start_lat  start_lng  end_lat   end_lng member_casual  is_equity  \n",
       "0    37.3443  -121.9218  37.3443 -121.9217        casual      False  "
      ]
     },
     "execution_count": 16,
     "metadata": {},
     "output_type": "execute_result"
    }
   ],
   "source": [
    "df_20_05.head(1)"
   ]
  },
  {
   "cell_type": "code",
   "execution_count": 17,
   "metadata": {},
   "outputs": [
    {
     "data": {
      "text/plain": [
       "(2358923, 15)"
      ]
     },
     "execution_count": 17,
     "metadata": {},
     "output_type": "execute_result"
    }
   ],
   "source": [
    "df_1.shape"
   ]
  },
  {
   "cell_type": "code",
   "execution_count": 18,
   "metadata": {},
   "outputs": [
    {
     "data": {
      "text/html": [
       "<div>\n",
       "<style scoped>\n",
       "    .dataframe tbody tr th:only-of-type {\n",
       "        vertical-align: middle;\n",
       "    }\n",
       "\n",
       "    .dataframe tbody tr th {\n",
       "        vertical-align: top;\n",
       "    }\n",
       "\n",
       "    .dataframe thead th {\n",
       "        text-align: right;\n",
       "    }\n",
       "</style>\n",
       "<table border=\"1\" class=\"dataframe\">\n",
       "  <thead>\n",
       "    <tr style=\"text-align: right;\">\n",
       "      <th></th>\n",
       "      <th>duration_sec</th>\n",
       "      <th>start_time</th>\n",
       "      <th>end_time</th>\n",
       "      <th>start_station_id</th>\n",
       "      <th>start_station_name</th>\n",
       "      <th>start_station_latitude</th>\n",
       "      <th>start_station_longitude</th>\n",
       "      <th>end_station_id</th>\n",
       "      <th>end_station_name</th>\n",
       "      <th>end_station_latitude</th>\n",
       "      <th>end_station_longitude</th>\n",
       "      <th>bike_id</th>\n",
       "      <th>user_type</th>\n",
       "      <th>bike_share_for_all_trip</th>\n",
       "      <th>rental_access_method</th>\n",
       "    </tr>\n",
       "  </thead>\n",
       "  <tbody>\n",
       "    <tr>\n",
       "      <td>0</td>\n",
       "      <td>81695</td>\n",
       "      <td>2019-06-30 18:16:09.7730</td>\n",
       "      <td>2019-07-01 16:57:45.5920</td>\n",
       "      <td>109.0</td>\n",
       "      <td>17th St at Valencia St</td>\n",
       "      <td>37.763316</td>\n",
       "      <td>-122.421904</td>\n",
       "      <td>56.0</td>\n",
       "      <td>Koshland Park</td>\n",
       "      <td>37.773414</td>\n",
       "      <td>-122.427317</td>\n",
       "      <td>1502</td>\n",
       "      <td>Subscriber</td>\n",
       "      <td>No</td>\n",
       "      <td>NaN</td>\n",
       "    </tr>\n",
       "    <tr>\n",
       "      <td>1</td>\n",
       "      <td>74260</td>\n",
       "      <td>2019-06-30 18:09:55.8300</td>\n",
       "      <td>2019-07-01 14:47:36.6810</td>\n",
       "      <td>50.0</td>\n",
       "      <td>2nd St at Townsend St</td>\n",
       "      <td>37.780526</td>\n",
       "      <td>-122.390288</td>\n",
       "      <td>101.0</td>\n",
       "      <td>15th St at Potrero Ave</td>\n",
       "      <td>37.767079</td>\n",
       "      <td>-122.407359</td>\n",
       "      <td>2526</td>\n",
       "      <td>Customer</td>\n",
       "      <td>No</td>\n",
       "      <td>NaN</td>\n",
       "    </tr>\n",
       "    <tr>\n",
       "      <td>2</td>\n",
       "      <td>59603</td>\n",
       "      <td>2019-06-30 15:40:31.0380</td>\n",
       "      <td>2019-07-01 08:13:54.3490</td>\n",
       "      <td>23.0</td>\n",
       "      <td>The Embarcadero at Steuart St</td>\n",
       "      <td>37.791464</td>\n",
       "      <td>-122.391034</td>\n",
       "      <td>30.0</td>\n",
       "      <td>San Francisco Caltrain (Townsend St at 4th St)</td>\n",
       "      <td>37.776598</td>\n",
       "      <td>-122.395282</td>\n",
       "      <td>2427</td>\n",
       "      <td>Subscriber</td>\n",
       "      <td>No</td>\n",
       "      <td>NaN</td>\n",
       "    </tr>\n",
       "    <tr>\n",
       "      <td>3</td>\n",
       "      <td>67932</td>\n",
       "      <td>2019-06-30 12:49:47.7810</td>\n",
       "      <td>2019-07-01 07:42:00.5430</td>\n",
       "      <td>169.0</td>\n",
       "      <td>Bushrod Park</td>\n",
       "      <td>37.846516</td>\n",
       "      <td>-122.265304</td>\n",
       "      <td>248.0</td>\n",
       "      <td>Telegraph Ave at Ashby Ave</td>\n",
       "      <td>37.855956</td>\n",
       "      <td>-122.259795</td>\n",
       "      <td>1261</td>\n",
       "      <td>Customer</td>\n",
       "      <td>No</td>\n",
       "      <td>NaN</td>\n",
       "    </tr>\n",
       "    <tr>\n",
       "      <td>4</td>\n",
       "      <td>48894</td>\n",
       "      <td>2019-06-30 17:21:00.0550</td>\n",
       "      <td>2019-07-01 06:55:54.9960</td>\n",
       "      <td>15.0</td>\n",
       "      <td>San Francisco Ferry Building (Harry Bridges Pl...</td>\n",
       "      <td>37.795392</td>\n",
       "      <td>-122.394203</td>\n",
       "      <td>30.0</td>\n",
       "      <td>San Francisco Caltrain (Townsend St at 4th St)</td>\n",
       "      <td>37.776598</td>\n",
       "      <td>-122.395282</td>\n",
       "      <td>1070</td>\n",
       "      <td>Customer</td>\n",
       "      <td>No</td>\n",
       "      <td>NaN</td>\n",
       "    </tr>\n",
       "  </tbody>\n",
       "</table>\n",
       "</div>"
      ],
      "text/plain": [
       "   duration_sec                start_time                  end_time  \\\n",
       "0         81695  2019-06-30 18:16:09.7730  2019-07-01 16:57:45.5920   \n",
       "1         74260  2019-06-30 18:09:55.8300  2019-07-01 14:47:36.6810   \n",
       "2         59603  2019-06-30 15:40:31.0380  2019-07-01 08:13:54.3490   \n",
       "3         67932  2019-06-30 12:49:47.7810  2019-07-01 07:42:00.5430   \n",
       "4         48894  2019-06-30 17:21:00.0550  2019-07-01 06:55:54.9960   \n",
       "\n",
       "   start_station_id                                 start_station_name  \\\n",
       "0             109.0                             17th St at Valencia St   \n",
       "1              50.0                              2nd St at Townsend St   \n",
       "2              23.0                      The Embarcadero at Steuart St   \n",
       "3             169.0                                       Bushrod Park   \n",
       "4              15.0  San Francisco Ferry Building (Harry Bridges Pl...   \n",
       "\n",
       "   start_station_latitude  start_station_longitude  end_station_id  \\\n",
       "0               37.763316              -122.421904            56.0   \n",
       "1               37.780526              -122.390288           101.0   \n",
       "2               37.791464              -122.391034            30.0   \n",
       "3               37.846516              -122.265304           248.0   \n",
       "4               37.795392              -122.394203            30.0   \n",
       "\n",
       "                                 end_station_name  end_station_latitude  \\\n",
       "0                                   Koshland Park             37.773414   \n",
       "1                          15th St at Potrero Ave             37.767079   \n",
       "2  San Francisco Caltrain (Townsend St at 4th St)             37.776598   \n",
       "3                      Telegraph Ave at Ashby Ave             37.855956   \n",
       "4  San Francisco Caltrain (Townsend St at 4th St)             37.776598   \n",
       "\n",
       "   end_station_longitude  bike_id   user_type bike_share_for_all_trip  \\\n",
       "0            -122.427317     1502  Subscriber                      No   \n",
       "1            -122.407359     2526    Customer                      No   \n",
       "2            -122.395282     2427  Subscriber                      No   \n",
       "3            -122.259795     1261    Customer                      No   \n",
       "4            -122.395282     1070    Customer                      No   \n",
       "\n",
       "  rental_access_method  \n",
       "0                  NaN  \n",
       "1                  NaN  \n",
       "2                  NaN  \n",
       "3                  NaN  \n",
       "4                  NaN  "
      ]
     },
     "execution_count": 18,
     "metadata": {},
     "output_type": "execute_result"
    }
   ],
   "source": [
    "df_1.head()"
   ]
  },
  {
   "cell_type": "code",
   "execution_count": 19,
   "metadata": {},
   "outputs": [
    {
     "data": {
      "text/html": [
       "<div>\n",
       "<style scoped>\n",
       "    .dataframe tbody tr th:only-of-type {\n",
       "        vertical-align: middle;\n",
       "    }\n",
       "\n",
       "    .dataframe tbody tr th {\n",
       "        vertical-align: top;\n",
       "    }\n",
       "\n",
       "    .dataframe thead th {\n",
       "        text-align: right;\n",
       "    }\n",
       "</style>\n",
       "<table border=\"1\" class=\"dataframe\">\n",
       "  <thead>\n",
       "    <tr style=\"text-align: right;\">\n",
       "      <th></th>\n",
       "      <th>duration_sec</th>\n",
       "      <th>start_time</th>\n",
       "      <th>end_time</th>\n",
       "      <th>start_station_id</th>\n",
       "      <th>start_station_name</th>\n",
       "      <th>start_station_latitude</th>\n",
       "      <th>start_station_longitude</th>\n",
       "      <th>end_station_id</th>\n",
       "      <th>end_station_name</th>\n",
       "      <th>end_station_latitude</th>\n",
       "      <th>end_station_longitude</th>\n",
       "      <th>bike_id</th>\n",
       "      <th>user_type</th>\n",
       "      <th>bike_share_for_all_trip</th>\n",
       "      <th>rental_access_method</th>\n",
       "    </tr>\n",
       "  </thead>\n",
       "  <tbody>\n",
       "    <tr>\n",
       "      <td>2358918</td>\n",
       "      <td>61</td>\n",
       "      <td>2020-04-01 10:42:35</td>\n",
       "      <td>2020-04-01 10:43:37</td>\n",
       "      <td>NaN</td>\n",
       "      <td>NaN</td>\n",
       "      <td>37.848493</td>\n",
       "      <td>-122.265797</td>\n",
       "      <td>NaN</td>\n",
       "      <td>NaN</td>\n",
       "      <td>37.848476</td>\n",
       "      <td>-122.265779</td>\n",
       "      <td>999960</td>\n",
       "      <td>Subscriber</td>\n",
       "      <td>NaN</td>\n",
       "      <td>app</td>\n",
       "    </tr>\n",
       "    <tr>\n",
       "      <td>2358919</td>\n",
       "      <td>78</td>\n",
       "      <td>2020-03-18 17:10:42</td>\n",
       "      <td>2020-03-18 17:12:01</td>\n",
       "      <td>NaN</td>\n",
       "      <td>NaN</td>\n",
       "      <td>37.848499</td>\n",
       "      <td>-122.265794</td>\n",
       "      <td>NaN</td>\n",
       "      <td>NaN</td>\n",
       "      <td>37.848477</td>\n",
       "      <td>-122.265815</td>\n",
       "      <td>999960</td>\n",
       "      <td>Subscriber</td>\n",
       "      <td>NaN</td>\n",
       "      <td>app</td>\n",
       "    </tr>\n",
       "    <tr>\n",
       "      <td>2358920</td>\n",
       "      <td>122</td>\n",
       "      <td>2020-04-01 13:32:28</td>\n",
       "      <td>2020-04-01 13:34:31</td>\n",
       "      <td>NaN</td>\n",
       "      <td>NaN</td>\n",
       "      <td>37.848507</td>\n",
       "      <td>-122.266010</td>\n",
       "      <td>NaN</td>\n",
       "      <td>NaN</td>\n",
       "      <td>37.848485</td>\n",
       "      <td>-122.266063</td>\n",
       "      <td>633095</td>\n",
       "      <td>Subscriber</td>\n",
       "      <td>NaN</td>\n",
       "      <td>app</td>\n",
       "    </tr>\n",
       "    <tr>\n",
       "      <td>2358921</td>\n",
       "      <td>340</td>\n",
       "      <td>2020-04-01 13:07:34</td>\n",
       "      <td>2020-04-01 13:13:14</td>\n",
       "      <td>NaN</td>\n",
       "      <td>NaN</td>\n",
       "      <td>37.848530</td>\n",
       "      <td>-122.266013</td>\n",
       "      <td>NaN</td>\n",
       "      <td>NaN</td>\n",
       "      <td>37.848497</td>\n",
       "      <td>-122.266029</td>\n",
       "      <td>633095</td>\n",
       "      <td>Subscriber</td>\n",
       "      <td>NaN</td>\n",
       "      <td>app</td>\n",
       "    </tr>\n",
       "    <tr>\n",
       "      <td>2358922</td>\n",
       "      <td>333</td>\n",
       "      <td>2020-03-23 16:39:57</td>\n",
       "      <td>2020-03-23 16:45:30</td>\n",
       "      <td>NaN</td>\n",
       "      <td>NaN</td>\n",
       "      <td>37.848625</td>\n",
       "      <td>-122.266660</td>\n",
       "      <td>NaN</td>\n",
       "      <td>NaN</td>\n",
       "      <td>37.848446</td>\n",
       "      <td>-122.266022</td>\n",
       "      <td>633095</td>\n",
       "      <td>Subscriber</td>\n",
       "      <td>NaN</td>\n",
       "      <td>app</td>\n",
       "    </tr>\n",
       "  </tbody>\n",
       "</table>\n",
       "</div>"
      ],
      "text/plain": [
       "         duration_sec           start_time             end_time  \\\n",
       "2358918            61  2020-04-01 10:42:35  2020-04-01 10:43:37   \n",
       "2358919            78  2020-03-18 17:10:42  2020-03-18 17:12:01   \n",
       "2358920           122  2020-04-01 13:32:28  2020-04-01 13:34:31   \n",
       "2358921           340  2020-04-01 13:07:34  2020-04-01 13:13:14   \n",
       "2358922           333  2020-03-23 16:39:57  2020-03-23 16:45:30   \n",
       "\n",
       "         start_station_id start_station_name  start_station_latitude  \\\n",
       "2358918               NaN                NaN               37.848493   \n",
       "2358919               NaN                NaN               37.848499   \n",
       "2358920               NaN                NaN               37.848507   \n",
       "2358921               NaN                NaN               37.848530   \n",
       "2358922               NaN                NaN               37.848625   \n",
       "\n",
       "         start_station_longitude  end_station_id end_station_name  \\\n",
       "2358918              -122.265797             NaN              NaN   \n",
       "2358919              -122.265794             NaN              NaN   \n",
       "2358920              -122.266010             NaN              NaN   \n",
       "2358921              -122.266013             NaN              NaN   \n",
       "2358922              -122.266660             NaN              NaN   \n",
       "\n",
       "         end_station_latitude  end_station_longitude  bike_id   user_type  \\\n",
       "2358918             37.848476            -122.265779   999960  Subscriber   \n",
       "2358919             37.848477            -122.265815   999960  Subscriber   \n",
       "2358920             37.848485            -122.266063   633095  Subscriber   \n",
       "2358921             37.848497            -122.266029   633095  Subscriber   \n",
       "2358922             37.848446            -122.266022   633095  Subscriber   \n",
       "\n",
       "        bike_share_for_all_trip rental_access_method  \n",
       "2358918                     NaN                  app  \n",
       "2358919                     NaN                  app  \n",
       "2358920                     NaN                  app  \n",
       "2358921                     NaN                  app  \n",
       "2358922                     NaN                  app  "
      ]
     },
     "execution_count": 19,
     "metadata": {},
     "output_type": "execute_result"
    }
   ],
   "source": [
    "df_1.tail()"
   ]
  },
  {
   "cell_type": "code",
   "execution_count": 20,
   "metadata": {},
   "outputs": [
    {
     "name": "stdout",
     "output_type": "stream",
     "text": [
      "<class 'pandas.core.frame.DataFrame'>\n",
      "RangeIndex: 2358923 entries, 0 to 2358922\n",
      "Data columns (total 15 columns):\n",
      "duration_sec               int64\n",
      "start_time                 object\n",
      "end_time                   object\n",
      "start_station_id           float64\n",
      "start_station_name         object\n",
      "start_station_latitude     float64\n",
      "start_station_longitude    float64\n",
      "end_station_id             float64\n",
      "end_station_name           object\n",
      "end_station_latitude       float64\n",
      "end_station_longitude      float64\n",
      "bike_id                    int64\n",
      "user_type                  object\n",
      "bike_share_for_all_trip    object\n",
      "rental_access_method       object\n",
      "dtypes: float64(6), int64(2), object(7)\n",
      "memory usage: 270.0+ MB\n"
     ]
    }
   ],
   "source": [
    "df_1.info()"
   ]
  },
  {
   "cell_type": "code",
   "execution_count": 21,
   "metadata": {},
   "outputs": [
    {
     "data": {
      "text/html": [
       "<div>\n",
       "<style scoped>\n",
       "    .dataframe tbody tr th:only-of-type {\n",
       "        vertical-align: middle;\n",
       "    }\n",
       "\n",
       "    .dataframe tbody tr th {\n",
       "        vertical-align: top;\n",
       "    }\n",
       "\n",
       "    .dataframe thead th {\n",
       "        text-align: right;\n",
       "    }\n",
       "</style>\n",
       "<table border=\"1\" class=\"dataframe\">\n",
       "  <thead>\n",
       "    <tr style=\"text-align: right;\">\n",
       "      <th></th>\n",
       "      <th>duration_sec</th>\n",
       "      <th>start_station_id</th>\n",
       "      <th>start_station_latitude</th>\n",
       "      <th>start_station_longitude</th>\n",
       "      <th>end_station_id</th>\n",
       "      <th>end_station_latitude</th>\n",
       "      <th>end_station_longitude</th>\n",
       "      <th>bike_id</th>\n",
       "    </tr>\n",
       "  </thead>\n",
       "  <tbody>\n",
       "    <tr>\n",
       "      <td>count</td>\n",
       "      <td>2.358923e+06</td>\n",
       "      <td>1.792632e+06</td>\n",
       "      <td>2.358923e+06</td>\n",
       "      <td>2.358923e+06</td>\n",
       "      <td>1.790984e+06</td>\n",
       "      <td>2.358923e+06</td>\n",
       "      <td>2.358923e+06</td>\n",
       "      <td>2.358923e+06</td>\n",
       "    </tr>\n",
       "    <tr>\n",
       "      <td>mean</td>\n",
       "      <td>8.199436e+02</td>\n",
       "      <td>1.574262e+02</td>\n",
       "      <td>3.775627e+01</td>\n",
       "      <td>-1.223510e+02</td>\n",
       "      <td>1.516126e+02</td>\n",
       "      <td>3.775540e+01</td>\n",
       "      <td>-1.223470e+02</td>\n",
       "      <td>1.603747e+05</td>\n",
       "    </tr>\n",
       "    <tr>\n",
       "      <td>std</td>\n",
       "      <td>1.895830e+03</td>\n",
       "      <td>1.327526e+02</td>\n",
       "      <td>1.866724e-01</td>\n",
       "      <td>4.990514e-01</td>\n",
       "      <td>1.315672e+02</td>\n",
       "      <td>2.711204e-01</td>\n",
       "      <td>8.093404e-01</td>\n",
       "      <td>2.657013e+05</td>\n",
       "    </tr>\n",
       "    <tr>\n",
       "      <td>min</td>\n",
       "      <td>6.000000e+01</td>\n",
       "      <td>3.000000e+00</td>\n",
       "      <td>0.000000e+00</td>\n",
       "      <td>-1.225143e+02</td>\n",
       "      <td>3.000000e+00</td>\n",
       "      <td>0.000000e+00</td>\n",
       "      <td>-1.225758e+02</td>\n",
       "      <td>4.000000e+00</td>\n",
       "    </tr>\n",
       "    <tr>\n",
       "      <td>25%</td>\n",
       "      <td>3.720000e+02</td>\n",
       "      <td>5.000000e+01</td>\n",
       "      <td>3.776704e+01</td>\n",
       "      <td>-1.224174e+02</td>\n",
       "      <td>4.300000e+01</td>\n",
       "      <td>3.776710e+01</td>\n",
       "      <td>-1.224152e+02</td>\n",
       "      <td>2.677000e+03</td>\n",
       "    </tr>\n",
       "    <tr>\n",
       "      <td>50%</td>\n",
       "      <td>5.930000e+02</td>\n",
       "      <td>1.120000e+02</td>\n",
       "      <td>3.777874e+01</td>\n",
       "      <td>-1.224008e+02</td>\n",
       "      <td>1.050000e+02</td>\n",
       "      <td>3.777874e+01</td>\n",
       "      <td>-1.223997e+02</td>\n",
       "      <td>1.048300e+04</td>\n",
       "    </tr>\n",
       "    <tr>\n",
       "      <td>75%</td>\n",
       "      <td>9.220000e+02</td>\n",
       "      <td>2.500000e+02</td>\n",
       "      <td>3.779413e+01</td>\n",
       "      <td>-1.223903e+02</td>\n",
       "      <td>2.450000e+02</td>\n",
       "      <td>3.779421e+01</td>\n",
       "      <td>-1.223903e+02</td>\n",
       "      <td>2.639950e+05</td>\n",
       "    </tr>\n",
       "    <tr>\n",
       "      <td>max</td>\n",
       "      <td>9.121100e+05</td>\n",
       "      <td>5.210000e+02</td>\n",
       "      <td>4.551000e+01</td>\n",
       "      <td>0.000000e+00</td>\n",
       "      <td>5.210000e+02</td>\n",
       "      <td>4.551000e+01</td>\n",
       "      <td>0.000000e+00</td>\n",
       "      <td>9.999600e+05</td>\n",
       "    </tr>\n",
       "  </tbody>\n",
       "</table>\n",
       "</div>"
      ],
      "text/plain": [
       "       duration_sec  start_station_id  start_station_latitude  \\\n",
       "count  2.358923e+06      1.792632e+06            2.358923e+06   \n",
       "mean   8.199436e+02      1.574262e+02            3.775627e+01   \n",
       "std    1.895830e+03      1.327526e+02            1.866724e-01   \n",
       "min    6.000000e+01      3.000000e+00            0.000000e+00   \n",
       "25%    3.720000e+02      5.000000e+01            3.776704e+01   \n",
       "50%    5.930000e+02      1.120000e+02            3.777874e+01   \n",
       "75%    9.220000e+02      2.500000e+02            3.779413e+01   \n",
       "max    9.121100e+05      5.210000e+02            4.551000e+01   \n",
       "\n",
       "       start_station_longitude  end_station_id  end_station_latitude  \\\n",
       "count             2.358923e+06    1.790984e+06          2.358923e+06   \n",
       "mean             -1.223510e+02    1.516126e+02          3.775540e+01   \n",
       "std               4.990514e-01    1.315672e+02          2.711204e-01   \n",
       "min              -1.225143e+02    3.000000e+00          0.000000e+00   \n",
       "25%              -1.224174e+02    4.300000e+01          3.776710e+01   \n",
       "50%              -1.224008e+02    1.050000e+02          3.777874e+01   \n",
       "75%              -1.223903e+02    2.450000e+02          3.779421e+01   \n",
       "max               0.000000e+00    5.210000e+02          4.551000e+01   \n",
       "\n",
       "       end_station_longitude       bike_id  \n",
       "count           2.358923e+06  2.358923e+06  \n",
       "mean           -1.223470e+02  1.603747e+05  \n",
       "std             8.093404e-01  2.657013e+05  \n",
       "min            -1.225758e+02  4.000000e+00  \n",
       "25%            -1.224152e+02  2.677000e+03  \n",
       "50%            -1.223997e+02  1.048300e+04  \n",
       "75%            -1.223903e+02  2.639950e+05  \n",
       "max             0.000000e+00  9.999600e+05  "
      ]
     },
     "execution_count": 21,
     "metadata": {},
     "output_type": "execute_result"
    }
   ],
   "source": [
    "df_1.describe()"
   ]
  },
  {
   "cell_type": "code",
   "execution_count": 22,
   "metadata": {},
   "outputs": [
    {
     "data": {
      "text/plain": [
       "duration_sec               False\n",
       "start_time                 False\n",
       "end_time                   False\n",
       "start_station_id            True\n",
       "start_station_name          True\n",
       "start_station_latitude     False\n",
       "start_station_longitude    False\n",
       "end_station_id              True\n",
       "end_station_name            True\n",
       "end_station_latitude       False\n",
       "end_station_longitude      False\n",
       "bike_id                    False\n",
       "user_type                  False\n",
       "bike_share_for_all_trip     True\n",
       "rental_access_method        True\n",
       "dtype: bool"
      ]
     },
     "execution_count": 22,
     "metadata": {},
     "output_type": "execute_result"
    }
   ],
   "source": [
    "df_1.isnull().any()"
   ]
  },
  {
   "cell_type": "code",
   "execution_count": 23,
   "metadata": {},
   "outputs": [
    {
     "data": {
      "text/plain": [
       "7512"
      ]
     },
     "execution_count": 23,
     "metadata": {},
     "output_type": "execute_result"
    }
   ],
   "source": [
    "df_1.duplicated().sum()"
   ]
  },
  {
   "cell_type": "code",
   "execution_count": 24,
   "metadata": {},
   "outputs": [
    {
     "data": {
      "text/html": [
       "<div>\n",
       "<style scoped>\n",
       "    .dataframe tbody tr th:only-of-type {\n",
       "        vertical-align: middle;\n",
       "    }\n",
       "\n",
       "    .dataframe tbody tr th {\n",
       "        vertical-align: top;\n",
       "    }\n",
       "\n",
       "    .dataframe thead th {\n",
       "        text-align: right;\n",
       "    }\n",
       "</style>\n",
       "<table border=\"1\" class=\"dataframe\">\n",
       "  <thead>\n",
       "    <tr style=\"text-align: right;\">\n",
       "      <th></th>\n",
       "      <th>ride_id</th>\n",
       "      <th>rideable_type</th>\n",
       "      <th>started_at</th>\n",
       "      <th>ended_at</th>\n",
       "      <th>start_station_name</th>\n",
       "      <th>start_station_id</th>\n",
       "      <th>end_station_name</th>\n",
       "      <th>end_station_id</th>\n",
       "      <th>start_lat</th>\n",
       "      <th>start_lng</th>\n",
       "      <th>end_lat</th>\n",
       "      <th>end_lng</th>\n",
       "      <th>member_casual</th>\n",
       "      <th>is_equity</th>\n",
       "    </tr>\n",
       "  </thead>\n",
       "  <tbody>\n",
       "    <tr>\n",
       "      <td>0</td>\n",
       "      <td>5A1FF31692371859</td>\n",
       "      <td>electric_bike</td>\n",
       "      <td>2020-04-04 08:28:20</td>\n",
       "      <td>2020-04-04 08:33:34</td>\n",
       "      <td>NaN</td>\n",
       "      <td>NaN</td>\n",
       "      <td>NaN</td>\n",
       "      <td>NaN</td>\n",
       "      <td>37.7692</td>\n",
       "      <td>-122.4209</td>\n",
       "      <td>37.7703</td>\n",
       "      <td>-122.4069</td>\n",
       "      <td>casual</td>\n",
       "      <td>NaN</td>\n",
       "    </tr>\n",
       "    <tr>\n",
       "      <td>1</td>\n",
       "      <td>D8D5BA2D4F051133</td>\n",
       "      <td>electric_bike</td>\n",
       "      <td>2020-04-03 18:55:43</td>\n",
       "      <td>2020-04-03 19:21:05</td>\n",
       "      <td>NaN</td>\n",
       "      <td>NaN</td>\n",
       "      <td>NaN</td>\n",
       "      <td>NaN</td>\n",
       "      <td>37.8023</td>\n",
       "      <td>-122.4244</td>\n",
       "      <td>37.8023</td>\n",
       "      <td>-122.4244</td>\n",
       "      <td>casual</td>\n",
       "      <td>NaN</td>\n",
       "    </tr>\n",
       "    <tr>\n",
       "      <td>2</td>\n",
       "      <td>A3633A9140CA4FF8</td>\n",
       "      <td>electric_bike</td>\n",
       "      <td>2020-04-04 15:11:04</td>\n",
       "      <td>2020-04-04 15:12:21</td>\n",
       "      <td>NaN</td>\n",
       "      <td>NaN</td>\n",
       "      <td>NaN</td>\n",
       "      <td>NaN</td>\n",
       "      <td>37.7667</td>\n",
       "      <td>-122.3961</td>\n",
       "      <td>37.7667</td>\n",
       "      <td>-122.3962</td>\n",
       "      <td>casual</td>\n",
       "      <td>NaN</td>\n",
       "    </tr>\n",
       "    <tr>\n",
       "      <td>3</td>\n",
       "      <td>301F57EB0197A5E0</td>\n",
       "      <td>electric_bike</td>\n",
       "      <td>2020-04-03 20:21:03</td>\n",
       "      <td>2020-04-03 22:08:06</td>\n",
       "      <td>8th St at Ringold St</td>\n",
       "      <td>60.0</td>\n",
       "      <td>NaN</td>\n",
       "      <td>NaN</td>\n",
       "      <td>37.7744</td>\n",
       "      <td>-122.4095</td>\n",
       "      <td>37.7805</td>\n",
       "      <td>-122.4033</td>\n",
       "      <td>casual</td>\n",
       "      <td>NaN</td>\n",
       "    </tr>\n",
       "    <tr>\n",
       "      <td>4</td>\n",
       "      <td>9429C701AF5744B3</td>\n",
       "      <td>electric_bike</td>\n",
       "      <td>2020-04-03 18:39:39</td>\n",
       "      <td>2020-04-03 18:47:19</td>\n",
       "      <td>NaN</td>\n",
       "      <td>NaN</td>\n",
       "      <td>NaN</td>\n",
       "      <td>NaN</td>\n",
       "      <td>37.8027</td>\n",
       "      <td>-122.4433</td>\n",
       "      <td>37.8009</td>\n",
       "      <td>-122.4269</td>\n",
       "      <td>casual</td>\n",
       "      <td>NaN</td>\n",
       "    </tr>\n",
       "  </tbody>\n",
       "</table>\n",
       "</div>"
      ],
      "text/plain": [
       "            ride_id  rideable_type           started_at             ended_at  \\\n",
       "0  5A1FF31692371859  electric_bike  2020-04-04 08:28:20  2020-04-04 08:33:34   \n",
       "1  D8D5BA2D4F051133  electric_bike  2020-04-03 18:55:43  2020-04-03 19:21:05   \n",
       "2  A3633A9140CA4FF8  electric_bike  2020-04-04 15:11:04  2020-04-04 15:12:21   \n",
       "3  301F57EB0197A5E0  electric_bike  2020-04-03 20:21:03  2020-04-03 22:08:06   \n",
       "4  9429C701AF5744B3  electric_bike  2020-04-03 18:39:39  2020-04-03 18:47:19   \n",
       "\n",
       "     start_station_name  start_station_id end_station_name  end_station_id  \\\n",
       "0                   NaN               NaN              NaN             NaN   \n",
       "1                   NaN               NaN              NaN             NaN   \n",
       "2                   NaN               NaN              NaN             NaN   \n",
       "3  8th St at Ringold St              60.0              NaN             NaN   \n",
       "4                   NaN               NaN              NaN             NaN   \n",
       "\n",
       "   start_lat  start_lng  end_lat   end_lng member_casual is_equity  \n",
       "0    37.7692  -122.4209  37.7703 -122.4069        casual       NaN  \n",
       "1    37.8023  -122.4244  37.8023 -122.4244        casual       NaN  \n",
       "2    37.7667  -122.3961  37.7667 -122.3962        casual       NaN  \n",
       "3    37.7744  -122.4095  37.7805 -122.4033        casual       NaN  \n",
       "4    37.8027  -122.4433  37.8009 -122.4269        casual       NaN  "
      ]
     },
     "execution_count": 24,
     "metadata": {},
     "output_type": "execute_result"
    }
   ],
   "source": [
    "df_2.head()"
   ]
  },
  {
   "cell_type": "code",
   "execution_count": 25,
   "metadata": {},
   "outputs": [
    {
     "data": {
      "text/html": [
       "<div>\n",
       "<style scoped>\n",
       "    .dataframe tbody tr th:only-of-type {\n",
       "        vertical-align: middle;\n",
       "    }\n",
       "\n",
       "    .dataframe tbody tr th {\n",
       "        vertical-align: top;\n",
       "    }\n",
       "\n",
       "    .dataframe thead th {\n",
       "        text-align: right;\n",
       "    }\n",
       "</style>\n",
       "<table border=\"1\" class=\"dataframe\">\n",
       "  <thead>\n",
       "    <tr style=\"text-align: right;\">\n",
       "      <th></th>\n",
       "      <th>ride_id</th>\n",
       "      <th>rideable_type</th>\n",
       "      <th>started_at</th>\n",
       "      <th>ended_at</th>\n",
       "      <th>start_station_name</th>\n",
       "      <th>start_station_id</th>\n",
       "      <th>end_station_name</th>\n",
       "      <th>end_station_id</th>\n",
       "      <th>start_lat</th>\n",
       "      <th>start_lng</th>\n",
       "      <th>end_lat</th>\n",
       "      <th>end_lng</th>\n",
       "      <th>member_casual</th>\n",
       "      <th>is_equity</th>\n",
       "    </tr>\n",
       "  </thead>\n",
       "  <tbody>\n",
       "    <tr>\n",
       "      <td>222505</td>\n",
       "      <td>BACC41F140A7114A</td>\n",
       "      <td>electric_bike</td>\n",
       "      <td>2020-05-10 17:26:19</td>\n",
       "      <td>2020-05-10 17:46:18</td>\n",
       "      <td>Funston Ave at Fulton St</td>\n",
       "      <td>485.0</td>\n",
       "      <td>Dolores St at 15th St</td>\n",
       "      <td>96.0</td>\n",
       "      <td>37.7734</td>\n",
       "      <td>-122.4713</td>\n",
       "      <td>37.7662</td>\n",
       "      <td>-122.4267</td>\n",
       "      <td>casual</td>\n",
       "      <td>False</td>\n",
       "    </tr>\n",
       "    <tr>\n",
       "      <td>222506</td>\n",
       "      <td>64F4C06CB79B6205</td>\n",
       "      <td>electric_bike</td>\n",
       "      <td>2020-05-30 17:40:19</td>\n",
       "      <td>2020-05-30 17:47:50</td>\n",
       "      <td>NaN</td>\n",
       "      <td>NaN</td>\n",
       "      <td>NaN</td>\n",
       "      <td>NaN</td>\n",
       "      <td>37.7516</td>\n",
       "      <td>-122.4309</td>\n",
       "      <td>37.7353</td>\n",
       "      <td>-122.4227</td>\n",
       "      <td>casual</td>\n",
       "      <td>False</td>\n",
       "    </tr>\n",
       "    <tr>\n",
       "      <td>222507</td>\n",
       "      <td>C38F43B3BF11399F</td>\n",
       "      <td>electric_bike</td>\n",
       "      <td>2020-05-31 12:34:41</td>\n",
       "      <td>2020-05-31 14:42:32</td>\n",
       "      <td>Broderick St at Oak St</td>\n",
       "      <td>71.0</td>\n",
       "      <td>NaN</td>\n",
       "      <td>NaN</td>\n",
       "      <td>37.7730</td>\n",
       "      <td>-122.4391</td>\n",
       "      <td>37.7974</td>\n",
       "      <td>-122.4331</td>\n",
       "      <td>casual</td>\n",
       "      <td>False</td>\n",
       "    </tr>\n",
       "    <tr>\n",
       "      <td>222508</td>\n",
       "      <td>9C53113CA86194C5</td>\n",
       "      <td>electric_bike</td>\n",
       "      <td>2020-05-30 17:27:57</td>\n",
       "      <td>2020-05-30 17:46:56</td>\n",
       "      <td>NaN</td>\n",
       "      <td>NaN</td>\n",
       "      <td>NaN</td>\n",
       "      <td>NaN</td>\n",
       "      <td>37.7883</td>\n",
       "      <td>-122.4090</td>\n",
       "      <td>37.7591</td>\n",
       "      <td>-122.4253</td>\n",
       "      <td>casual</td>\n",
       "      <td>False</td>\n",
       "    </tr>\n",
       "    <tr>\n",
       "      <td>222509</td>\n",
       "      <td>6E047EDBF933A50B</td>\n",
       "      <td>electric_bike</td>\n",
       "      <td>2020-05-31 13:49:41</td>\n",
       "      <td>2020-05-31 14:10:56</td>\n",
       "      <td>NaN</td>\n",
       "      <td>NaN</td>\n",
       "      <td>NaN</td>\n",
       "      <td>NaN</td>\n",
       "      <td>37.7909</td>\n",
       "      <td>-122.4392</td>\n",
       "      <td>37.7909</td>\n",
       "      <td>-122.4393</td>\n",
       "      <td>casual</td>\n",
       "      <td>False</td>\n",
       "    </tr>\n",
       "  </tbody>\n",
       "</table>\n",
       "</div>"
      ],
      "text/plain": [
       "                 ride_id  rideable_type           started_at  \\\n",
       "222505  BACC41F140A7114A  electric_bike  2020-05-10 17:26:19   \n",
       "222506  64F4C06CB79B6205  electric_bike  2020-05-30 17:40:19   \n",
       "222507  C38F43B3BF11399F  electric_bike  2020-05-31 12:34:41   \n",
       "222508  9C53113CA86194C5  electric_bike  2020-05-30 17:27:57   \n",
       "222509  6E047EDBF933A50B  electric_bike  2020-05-31 13:49:41   \n",
       "\n",
       "                   ended_at        start_station_name  start_station_id  \\\n",
       "222505  2020-05-10 17:46:18  Funston Ave at Fulton St             485.0   \n",
       "222506  2020-05-30 17:47:50                       NaN               NaN   \n",
       "222507  2020-05-31 14:42:32    Broderick St at Oak St              71.0   \n",
       "222508  2020-05-30 17:46:56                       NaN               NaN   \n",
       "222509  2020-05-31 14:10:56                       NaN               NaN   \n",
       "\n",
       "             end_station_name  end_station_id  start_lat  start_lng  end_lat  \\\n",
       "222505  Dolores St at 15th St            96.0    37.7734  -122.4713  37.7662   \n",
       "222506                    NaN             NaN    37.7516  -122.4309  37.7353   \n",
       "222507                    NaN             NaN    37.7730  -122.4391  37.7974   \n",
       "222508                    NaN             NaN    37.7883  -122.4090  37.7591   \n",
       "222509                    NaN             NaN    37.7909  -122.4392  37.7909   \n",
       "\n",
       "         end_lng member_casual is_equity  \n",
       "222505 -122.4267        casual     False  \n",
       "222506 -122.4227        casual     False  \n",
       "222507 -122.4331        casual     False  \n",
       "222508 -122.4253        casual     False  \n",
       "222509 -122.4393        casual     False  "
      ]
     },
     "execution_count": 25,
     "metadata": {},
     "output_type": "execute_result"
    }
   ],
   "source": [
    "df_2.tail()"
   ]
  },
  {
   "cell_type": "code",
   "execution_count": 26,
   "metadata": {},
   "outputs": [
    {
     "data": {
      "text/plain": [
       "0"
      ]
     },
     "execution_count": 26,
     "metadata": {},
     "output_type": "execute_result"
    }
   ],
   "source": [
    "df_2.duplicated().sum()"
   ]
  },
  {
   "cell_type": "code",
   "execution_count": 27,
   "metadata": {},
   "outputs": [
    {
     "data": {
      "text/html": [
       "<div>\n",
       "<style scoped>\n",
       "    .dataframe tbody tr th:only-of-type {\n",
       "        vertical-align: middle;\n",
       "    }\n",
       "\n",
       "    .dataframe tbody tr th {\n",
       "        vertical-align: top;\n",
       "    }\n",
       "\n",
       "    .dataframe thead th {\n",
       "        text-align: right;\n",
       "    }\n",
       "</style>\n",
       "<table border=\"1\" class=\"dataframe\">\n",
       "  <thead>\n",
       "    <tr style=\"text-align: right;\">\n",
       "      <th></th>\n",
       "      <th>start_station_id</th>\n",
       "      <th>end_station_id</th>\n",
       "      <th>start_lat</th>\n",
       "      <th>start_lng</th>\n",
       "      <th>end_lat</th>\n",
       "      <th>end_lng</th>\n",
       "    </tr>\n",
       "  </thead>\n",
       "  <tbody>\n",
       "    <tr>\n",
       "      <td>count</td>\n",
       "      <td>140749.000000</td>\n",
       "      <td>136637.000000</td>\n",
       "      <td>222510.000000</td>\n",
       "      <td>222510.000000</td>\n",
       "      <td>222144.000000</td>\n",
       "      <td>222144.000000</td>\n",
       "    </tr>\n",
       "    <tr>\n",
       "      <td>mean</td>\n",
       "      <td>227.044235</td>\n",
       "      <td>224.284945</td>\n",
       "      <td>37.716545</td>\n",
       "      <td>-122.334165</td>\n",
       "      <td>37.716465</td>\n",
       "      <td>-122.334461</td>\n",
       "    </tr>\n",
       "    <tr>\n",
       "      <td>std</td>\n",
       "      <td>169.054946</td>\n",
       "      <td>168.777124</td>\n",
       "      <td>0.158375</td>\n",
       "      <td>0.189933</td>\n",
       "      <td>0.158411</td>\n",
       "      <td>0.190124</td>\n",
       "    </tr>\n",
       "    <tr>\n",
       "      <td>min</td>\n",
       "      <td>3.000000</td>\n",
       "      <td>3.000000</td>\n",
       "      <td>37.239200</td>\n",
       "      <td>-122.514300</td>\n",
       "      <td>37.004600</td>\n",
       "      <td>-122.559000</td>\n",
       "    </tr>\n",
       "    <tr>\n",
       "      <td>25%</td>\n",
       "      <td>74.000000</td>\n",
       "      <td>74.000000</td>\n",
       "      <td>37.759100</td>\n",
       "      <td>-122.432400</td>\n",
       "      <td>37.759100</td>\n",
       "      <td>-122.432300</td>\n",
       "    </tr>\n",
       "    <tr>\n",
       "      <td>50%</td>\n",
       "      <td>180.000000</td>\n",
       "      <td>171.000000</td>\n",
       "      <td>37.773500</td>\n",
       "      <td>-122.411600</td>\n",
       "      <td>37.773500</td>\n",
       "      <td>-122.411700</td>\n",
       "    </tr>\n",
       "    <tr>\n",
       "      <td>75%</td>\n",
       "      <td>383.000000</td>\n",
       "      <td>381.000000</td>\n",
       "      <td>37.787300</td>\n",
       "      <td>-122.388100</td>\n",
       "      <td>37.787400</td>\n",
       "      <td>-122.388100</td>\n",
       "    </tr>\n",
       "    <tr>\n",
       "      <td>max</td>\n",
       "      <td>521.000000</td>\n",
       "      <td>521.000000</td>\n",
       "      <td>37.880200</td>\n",
       "      <td>-121.774600</td>\n",
       "      <td>37.962100</td>\n",
       "      <td>-121.560600</td>\n",
       "    </tr>\n",
       "  </tbody>\n",
       "</table>\n",
       "</div>"
      ],
      "text/plain": [
       "       start_station_id  end_station_id      start_lat      start_lng  \\\n",
       "count     140749.000000   136637.000000  222510.000000  222510.000000   \n",
       "mean         227.044235      224.284945      37.716545    -122.334165   \n",
       "std          169.054946      168.777124       0.158375       0.189933   \n",
       "min            3.000000        3.000000      37.239200    -122.514300   \n",
       "25%           74.000000       74.000000      37.759100    -122.432400   \n",
       "50%          180.000000      171.000000      37.773500    -122.411600   \n",
       "75%          383.000000      381.000000      37.787300    -122.388100   \n",
       "max          521.000000      521.000000      37.880200    -121.774600   \n",
       "\n",
       "             end_lat        end_lng  \n",
       "count  222144.000000  222144.000000  \n",
       "mean       37.716465    -122.334461  \n",
       "std         0.158411       0.190124  \n",
       "min        37.004600    -122.559000  \n",
       "25%        37.759100    -122.432300  \n",
       "50%        37.773500    -122.411700  \n",
       "75%        37.787400    -122.388100  \n",
       "max        37.962100    -121.560600  "
      ]
     },
     "execution_count": 27,
     "metadata": {},
     "output_type": "execute_result"
    }
   ],
   "source": [
    "df_2.describe()"
   ]
  },
  {
   "cell_type": "markdown",
   "metadata": {},
   "source": [
    "#### Quality issues\n",
    "\n",
    "1. Columns names in df_1 and df_2 doesn't match \n",
    "\n",
    "    * df_1: duration_sec -------------- df_2: None\n",
    "    * df_1: user_type ----------------- df_2: member_casual\n",
    "    * df_1: bike_id ------------------- df_2: ride_id       \n",
    "    * df_1: start_time ---------------- df_2: started_at\n",
    "    * df_1: end_time ------------------ df_2: ended_at\n",
    "    * df_1: start_station_longitude --- df_2: start_lng\n",
    "    * df_1: start_station_latitude ---- df_2: start_lat\n",
    "    * df_1: end_station_latitude ------ df_2: end_lat\n",
    "    * df_1: end_station_longitude ----- df_2: end_lng\n",
    "    \n",
    "2. user_type values in df_1 doesn't match with member_casual values in df_2\n",
    "    \n",
    "3. erronious datatype \n",
    "\n",
    "- df_1:\n",
    "\n",
    "    * trip duration     (should be time)\n",
    "    * started_at        (should be date_time)\n",
    "    * ended_at          (should be date_time)\n",
    "    * start_station_id  (should be string)\n",
    "    * end_station_id    (should be string) \n",
    "    * bike_ride_id      (should be string)\n",
    "    * member_casual     (should be category)\n",
    "    \n",
    "\n",
    "- df_2:\n",
    "\n",
    "    * bike_ride_id      (should be string)\n",
    "    * started_at        (should be date_time)\n",
    "    * ended_at          (should be date_time)  \n",
    "    * start_station_id  (should be string)\n",
    "    * end_station_id    (should be string)         \n",
    "    * member_casual     (should be category)\n",
    "    \n",
    "4. Negative trip_duration values in df_2_clean ( nb: this issue will be solved once the trip_duration columns is created for df_2 the tidiness issues phase)\n",
    "5. The trip duration is in second wich is better to convert to minutes\n",
    "6. Colums aren't well ordered\n",
    "\n",
    "( nb: issue 4 and 5 will be solved once the trip_duration columns is created for df_2 and df_1 and df_2 are contaconated in the tidiness issues phase)"
   ]
  },
  {
   "cell_type": "markdown",
   "metadata": {},
   "source": [
    "#### Tidiness issues\n",
    "\n",
    "\n",
    "1. Some columns are useless for different reason\n",
    "\n",
    "    * rental_access_method (df_1) : exists only on 06/19, 07/19 and 10/19\n",
    "    * bike_share_for_all_trip (df_1) : doesn't exist after 03/20\n",
    "    * is_equity (df_2) :  exists only on 05/20\n",
    "    * rideable_type (df_2) : exists only after 03/20 \n",
    "    \n",
    "    \n",
    "2. There are some duplicated rows in df_1\n",
    "\n",
    "3. A trip_duration column is missing in df_2\n",
    "4. df_1 and df_2 should be concatenated\n"
   ]
  },
  {
   "cell_type": "markdown",
   "metadata": {},
   "source": [
    "### 3. Cleaning Data"
   ]
  },
  {
   "cell_type": "markdown",
   "metadata": {},
   "source": [
    "First a  copy of each dataframe will be made"
   ]
  },
  {
   "cell_type": "code",
   "execution_count": 28,
   "metadata": {},
   "outputs": [],
   "source": [
    "df_1_clean = df_1.copy()\n",
    "df_2_clean = df_2.copy()"
   ]
  },
  {
   "cell_type": "markdown",
   "metadata": {},
   "source": [
    "#### Quality issues"
   ]
  },
  {
   "cell_type": "markdown",
   "metadata": {},
   "source": [
    "1. Columns names in df_1 and df_2 doesn't match \n",
    "\n",
    "    * df_1: duration_sec -------------- df_2: None\n",
    "    * df_1: user_type ----------------- df_2: member_casual\n",
    "    * df_1: bike_id -------------------- df_2: ride_id       \n",
    "    * df_1: start_time ----------------- df_2: started_at\n",
    "    * df_1: end_time ------------------ df_2: ended_at\n",
    "    * df_1: start_station_longitude --- df_2: start_lng\n",
    "    * df_1: start_station_latitude ----- df_2: start_lat\n",
    "    * df_1: end_station_latitude ------- df_2: end_lat\n",
    "    * df_1: end_station_longitude ----- df_2: end_lng"
   ]
  },
  {
   "cell_type": "markdown",
   "metadata": {},
   "source": [
    "**Define**"
   ]
  },
  {
   "cell_type": "markdown",
   "metadata": {},
   "source": [
    "- Column name in df_1 will be changed as follow\n",
    "\n",
    "    * user_type to member_casual\n",
    "    * bike_id to bike_ride_id ( this column will contain the bike_id or the ride_id )\n",
    "    * start_time to started_at\n",
    "    * end_time to ended_at\n",
    "    * start_station_longitude to start_lng\n",
    "    * start_station_latitude to start_lat\n",
    "    * end_station_latitude to end_lat\n",
    "    * end_station_longitude to end_lng\n",
    "    \n",
    "- ride_id column name in df_2 will be changed as bike_ride_id"
   ]
  },
  {
   "cell_type": "markdown",
   "metadata": {},
   "source": [
    "**Code**"
   ]
  },
  {
   "cell_type": "code",
   "execution_count": 29,
   "metadata": {},
   "outputs": [],
   "source": [
    "df_1_clean = df_1_clean.rename(columns={'duration_sec':'trip_duration', 'user_type':'member_casual', 'bike_id':'bike_ride_id', 'start_time':'started_at', \\\n",
    "                                       'end_time':'ended_at', 'start_station_longitude':'start_lng', 'start_station_latitude':'start_lat', \\\n",
    "                                        'end_station_latitude':'end_lat', 'end_station_longitude':'end_lng'})\n",
    "df_2_clean = df_2_clean.rename(columns={'ride_id':'bike_ride_id'})"
   ]
  },
  {
   "cell_type": "markdown",
   "metadata": {},
   "source": [
    "**Test**"
   ]
  },
  {
   "cell_type": "markdown",
   "metadata": {},
   "source": [
    "df_1_clean.info()"
   ]
  },
  {
   "cell_type": "markdown",
   "metadata": {},
   "source": [
    "2. user_type values in df_1 doesn't match with member_casual values in df_2\n"
   ]
  },
  {
   "cell_type": "markdown",
   "metadata": {},
   "source": [
    "**Define**"
   ]
  },
  {
   "cell_type": "markdown",
   "metadata": {},
   "source": [
    "Change values of member_casual column \n",
    "\n",
    "    * Subscriber to member\n",
    "    * Customer to casual"
   ]
  },
  {
   "cell_type": "markdown",
   "metadata": {},
   "source": [
    "**Code**"
   ]
  },
  {
   "cell_type": "code",
   "execution_count": 30,
   "metadata": {},
   "outputs": [],
   "source": [
    "df_1_clean = df_1_clean.replace({'Subscriber':'member', 'Customer':'casual'})"
   ]
  },
  {
   "cell_type": "markdown",
   "metadata": {},
   "source": [
    "**Test**"
   ]
  },
  {
   "cell_type": "code",
   "execution_count": 31,
   "metadata": {},
   "outputs": [
    {
     "data": {
      "text/plain": [
       "array(['casual', 'member'], dtype=object)"
      ]
     },
     "execution_count": 31,
     "metadata": {},
     "output_type": "execute_result"
    }
   ],
   "source": [
    "df_2_clean.member_casual.unique()"
   ]
  },
  {
   "cell_type": "markdown",
   "metadata": {},
   "source": [
    "3. erronious datatype \n",
    "\n",
    "- df_1:\n",
    "\n",
    "    * trip duration     (should be time)\n",
    "    * started_at        (should be date_time)\n",
    "    * ended_at          (should be date_time)\n",
    "    * start_station_id  (should be string)\n",
    "    * end_station_id    (should be string) \n",
    "    * bike_ride_id      (should be string)\n",
    "    * member_casual     (should be category)\n",
    "    \n",
    "\n",
    "- df_2:\n",
    "\n",
    "    * bike_ride_id      (should be string)\n",
    "    * started_at        (should be date_time)\n",
    "    * ended_at          (should be date_time)  \n",
    "    * start_station_id  (should be string)\n",
    "    * end_station_id    (should be string)         \n",
    "    * member_casual     (should be category)\n",
    "    "
   ]
  },
  {
   "cell_type": "markdown",
   "metadata": {},
   "source": [
    "**Define**"
   ]
  },
  {
   "cell_type": "markdown",
   "metadata": {},
   "source": [
    "- Set datatypes in df_1 as follow\n",
    "\n",
    "    * started_at       :    date_time\n",
    "    * ended_at         :    date_time\n",
    "    * start_station_id :    string\n",
    "    * bike_ride_id     :    string\n",
    "    * member_casual    :    category\n",
    "    \n",
    "    \n",
    "- Set datatype in df_2 as follow\n",
    "\n",
    "    * trip_duration :    time     # This one will be set after setting the trip_duration column in tidiness cleaning\n",
    "    * bike_ride_id  :    string\n",
    "    * started_at    :    date_time\n",
    "    * ended_at      :    date_time\n",
    "    * member_casual :    category   "
   ]
  },
  {
   "cell_type": "markdown",
   "metadata": {},
   "source": [
    "**Code**"
   ]
  },
  {
   "cell_type": "code",
   "execution_count": 32,
   "metadata": {},
   "outputs": [],
   "source": [
    "# set df_1 datatypes\n",
    "df_1_clean.started_at = df_1_clean.started_at.astype('datetime64')\n",
    "df_1_clean.ended_at = df_1_clean.ended_at.astype('datetime64')\n",
    "df_1_clean.start_station_id = df_1_clean.start_station_id.astype('str')\n",
    "df_1_clean.end_station_id = df_1_clean.end_station_id.astype('str')\n",
    "df_1_clean.bike_ride_id = df_1_clean.bike_ride_id.astype('str')\n",
    "df_1_clean.member_casual = df_1_clean.member_casual.astype('category')"
   ]
  },
  {
   "cell_type": "code",
   "execution_count": 33,
   "metadata": {},
   "outputs": [],
   "source": [
    "# set df_2 datatypes\n",
    "df_2_clean.started_at = df_2_clean.started_at.astype('datetime64')\n",
    "df_2_clean.ended_at = df_2_clean.ended_at.astype('datetime64')\n",
    "df_2_clean.start_station_id = df_2_clean.start_station_id.astype('str')\n",
    "df_2_clean.end_station_id = df_2_clean.end_station_id.astype('str')\n",
    "df_2_clean.member_casual = df_2_clean.member_casual.astype('category')"
   ]
  },
  {
   "cell_type": "markdown",
   "metadata": {},
   "source": [
    "**Test**"
   ]
  },
  {
   "cell_type": "code",
   "execution_count": 34,
   "metadata": {},
   "outputs": [
    {
     "name": "stdout",
     "output_type": "stream",
     "text": [
      "<class 'pandas.core.frame.DataFrame'>\n",
      "RangeIndex: 2358923 entries, 0 to 2358922\n",
      "Data columns (total 15 columns):\n",
      "trip_duration              int64\n",
      "started_at                 datetime64[ns]\n",
      "ended_at                   datetime64[ns]\n",
      "start_station_id           object\n",
      "start_station_name         object\n",
      "start_lat                  float64\n",
      "start_lng                  float64\n",
      "end_station_id             object\n",
      "end_station_name           object\n",
      "end_lat                    float64\n",
      "end_lng                    float64\n",
      "bike_ride_id               object\n",
      "member_casual              category\n",
      "bike_share_for_all_trip    object\n",
      "rental_access_method       object\n",
      "dtypes: category(1), datetime64[ns](2), float64(4), int64(1), object(7)\n",
      "memory usage: 254.2+ MB\n"
     ]
    }
   ],
   "source": [
    "df_1_clean.info()"
   ]
  },
  {
   "cell_type": "code",
   "execution_count": 35,
   "metadata": {},
   "outputs": [
    {
     "name": "stdout",
     "output_type": "stream",
     "text": [
      "<class 'pandas.core.frame.DataFrame'>\n",
      "RangeIndex: 222510 entries, 0 to 222509\n",
      "Data columns (total 14 columns):\n",
      "bike_ride_id          222510 non-null object\n",
      "rideable_type         222510 non-null object\n",
      "started_at            222510 non-null datetime64[ns]\n",
      "ended_at              222510 non-null datetime64[ns]\n",
      "start_station_name    140749 non-null object\n",
      "start_station_id      222510 non-null object\n",
      "end_station_name      136637 non-null object\n",
      "end_station_id        222510 non-null object\n",
      "start_lat             222510 non-null float64\n",
      "start_lng             222510 non-null float64\n",
      "end_lat               222144 non-null float64\n",
      "end_lng               222144 non-null float64\n",
      "member_casual         222510 non-null category\n",
      "is_equity             138251 non-null object\n",
      "dtypes: category(1), datetime64[ns](2), float64(4), object(7)\n",
      "memory usage: 22.3+ MB\n"
     ]
    }
   ],
   "source": [
    "df_2_clean.info()"
   ]
  },
  {
   "cell_type": "markdown",
   "metadata": {},
   "source": [
    "1. Some columns are useless for different reasons\n",
    "\n",
    "    * rental_access_method (df_1) : exists only on 06/19, 07/19 and 10/19\n",
    "    * bike_share_for_all_trip (df_1) : doesn't exist after 03/20\n",
    "    * is_equity (df_2) :  exists only on 05/20\n",
    "    * rideable_type (df_2) : exists only after 03/20 "
   ]
  },
  {
   "cell_type": "markdown",
   "metadata": {},
   "source": [
    "**Define**"
   ]
  },
  {
   "cell_type": "markdown",
   "metadata": {},
   "source": [
    "1. Drop usless columns\n",
    "\n",
    "    * rental_access_method (df_1)\n",
    "    * bike_share_for_all_trip (df_1)\n",
    "    * is_equity (df_2) \n",
    "    * rideable_type (df_2)"
   ]
  },
  {
   "cell_type": "markdown",
   "metadata": {},
   "source": [
    "**Code**"
   ]
  },
  {
   "cell_type": "code",
   "execution_count": 36,
   "metadata": {},
   "outputs": [],
   "source": [
    "df_1_clean = df_1_clean.drop(columns=['rental_access_method', 'bike_share_for_all_trip'])\n",
    "df_2_clean = df_2_clean.drop(columns=['is_equity', 'rideable_type'])"
   ]
  },
  {
   "cell_type": "markdown",
   "metadata": {},
   "source": [
    "**Test**"
   ]
  },
  {
   "cell_type": "code",
   "execution_count": 37,
   "metadata": {},
   "outputs": [
    {
     "name": "stdout",
     "output_type": "stream",
     "text": [
      "<class 'pandas.core.frame.DataFrame'>\n",
      "RangeIndex: 2358923 entries, 0 to 2358922\n",
      "Data columns (total 13 columns):\n",
      "trip_duration         int64\n",
      "started_at            datetime64[ns]\n",
      "ended_at              datetime64[ns]\n",
      "start_station_id      object\n",
      "start_station_name    object\n",
      "start_lat             float64\n",
      "start_lng             float64\n",
      "end_station_id        object\n",
      "end_station_name      object\n",
      "end_lat               float64\n",
      "end_lng               float64\n",
      "bike_ride_id          object\n",
      "member_casual         category\n",
      "dtypes: category(1), datetime64[ns](2), float64(4), int64(1), object(5)\n",
      "memory usage: 218.2+ MB\n",
      "None\n",
      "<class 'pandas.core.frame.DataFrame'>\n",
      "RangeIndex: 222510 entries, 0 to 222509\n",
      "Data columns (total 12 columns):\n",
      "bike_ride_id          222510 non-null object\n",
      "started_at            222510 non-null datetime64[ns]\n",
      "ended_at              222510 non-null datetime64[ns]\n",
      "start_station_name    140749 non-null object\n",
      "start_station_id      222510 non-null object\n",
      "end_station_name      136637 non-null object\n",
      "end_station_id        222510 non-null object\n",
      "start_lat             222510 non-null float64\n",
      "start_lng             222510 non-null float64\n",
      "end_lat               222144 non-null float64\n",
      "end_lng               222144 non-null float64\n",
      "member_casual         222510 non-null category\n",
      "dtypes: category(1), datetime64[ns](2), float64(4), object(5)\n",
      "memory usage: 18.9+ MB\n",
      "None\n"
     ]
    }
   ],
   "source": [
    "print(df_1_clean.info());\n",
    "print(df_2_clean.info())"
   ]
  },
  {
   "cell_type": "markdown",
   "metadata": {},
   "source": [
    "2. There are some duplicated rows in df_1"
   ]
  },
  {
   "cell_type": "markdown",
   "metadata": {},
   "source": [
    "**Define**"
   ]
  },
  {
   "cell_type": "markdown",
   "metadata": {},
   "source": [
    "drop duplicated rows in df_1"
   ]
  },
  {
   "cell_type": "markdown",
   "metadata": {},
   "source": [
    "**Code**"
   ]
  },
  {
   "cell_type": "code",
   "execution_count": 38,
   "metadata": {},
   "outputs": [],
   "source": [
    "df_1_clean = df_1_clean.drop_duplicates()"
   ]
  },
  {
   "cell_type": "markdown",
   "metadata": {},
   "source": [
    "**Test**"
   ]
  },
  {
   "cell_type": "code",
   "execution_count": 39,
   "metadata": {},
   "outputs": [
    {
     "data": {
      "text/plain": [
       "0"
      ]
     },
     "execution_count": 39,
     "metadata": {},
     "output_type": "execute_result"
    }
   ],
   "source": [
    "sum(df_1_clean.duplicated())"
   ]
  },
  {
   "cell_type": "markdown",
   "metadata": {},
   "source": [
    "3. A trip_duration column is missing in df_2\n"
   ]
  },
  {
   "cell_type": "markdown",
   "metadata": {},
   "source": [
    "**Define**"
   ]
  },
  {
   "cell_type": "markdown",
   "metadata": {},
   "source": [
    "Set a trip_duration column in df_2"
   ]
  },
  {
   "cell_type": "markdown",
   "metadata": {},
   "source": [
    "**Code**"
   ]
  },
  {
   "cell_type": "code",
   "execution_count": 40,
   "metadata": {},
   "outputs": [],
   "source": [
    "# trip_duration equal to end time minus started time\n",
    "df_2_clean['trip_duration'] = df_2_clean['ended_at'] - df_2_clean['started_at']\n",
    "\n",
    "# convert trip duration to second\n",
    "import datetime as dt\n",
    "df_2_clean['trip_duration'] = df_2_clean['trip_duration'].dt.total_seconds()\n",
    "\n",
    "# convert trip duration datatype to int\n",
    "df_2_clean['trip_duration'] = df_2_clean['trip_duration'].astype(int)"
   ]
  },
  {
   "cell_type": "markdown",
   "metadata": {},
   "source": [
    "**Test**"
   ]
  },
  {
   "cell_type": "code",
   "execution_count": 41,
   "metadata": {},
   "outputs": [
    {
     "name": "stdout",
     "output_type": "stream",
     "text": [
      "       bike_ride_id          started_at            ended_at  \\\n",
      "0  5A1FF31692371859 2020-04-04 08:28:20 2020-04-04 08:33:34   \n",
      "1  D8D5BA2D4F051133 2020-04-03 18:55:43 2020-04-03 19:21:05   \n",
      "2  A3633A9140CA4FF8 2020-04-04 15:11:04 2020-04-04 15:12:21   \n",
      "3  301F57EB0197A5E0 2020-04-03 20:21:03 2020-04-03 22:08:06   \n",
      "4  9429C701AF5744B3 2020-04-03 18:39:39 2020-04-03 18:47:19   \n",
      "\n",
      "     start_station_name start_station_id end_station_name end_station_id  \\\n",
      "0                   NaN              nan              NaN            nan   \n",
      "1                   NaN              nan              NaN            nan   \n",
      "2                   NaN              nan              NaN            nan   \n",
      "3  8th St at Ringold St             60.0              NaN            nan   \n",
      "4                   NaN              nan              NaN            nan   \n",
      "\n",
      "   start_lat  start_lng  end_lat   end_lng member_casual  trip_duration  \n",
      "0    37.7692  -122.4209  37.7703 -122.4069        casual            314  \n",
      "1    37.8023  -122.4244  37.8023 -122.4244        casual           1522  \n",
      "2    37.7667  -122.3961  37.7667 -122.3962        casual             77  \n",
      "3    37.7744  -122.4095  37.7805 -122.4033        casual           6423  \n",
      "4    37.8027  -122.4433  37.8009 -122.4269        casual            460  \n",
      "<class 'pandas.core.frame.DataFrame'>\n",
      "RangeIndex: 222510 entries, 0 to 222509\n",
      "Data columns (total 13 columns):\n",
      "bike_ride_id          222510 non-null object\n",
      "started_at            222510 non-null datetime64[ns]\n",
      "ended_at              222510 non-null datetime64[ns]\n",
      "start_station_name    140749 non-null object\n",
      "start_station_id      222510 non-null object\n",
      "end_station_name      136637 non-null object\n",
      "end_station_id        222510 non-null object\n",
      "start_lat             222510 non-null float64\n",
      "start_lng             222510 non-null float64\n",
      "end_lat               222144 non-null float64\n",
      "end_lng               222144 non-null float64\n",
      "member_casual         222510 non-null category\n",
      "trip_duration         222510 non-null int32\n",
      "dtypes: category(1), datetime64[ns](2), float64(4), int32(1), object(5)\n",
      "memory usage: 19.7+ MB\n",
      "None\n"
     ]
    }
   ],
   "source": [
    "print(df_2_clean.head())\n",
    "print(df_2_clean.info())"
   ]
  },
  {
   "cell_type": "code",
   "execution_count": 42,
   "metadata": {},
   "outputs": [
    {
     "data": {
      "text/html": [
       "<div>\n",
       "<style scoped>\n",
       "    .dataframe tbody tr th:only-of-type {\n",
       "        vertical-align: middle;\n",
       "    }\n",
       "\n",
       "    .dataframe tbody tr th {\n",
       "        vertical-align: top;\n",
       "    }\n",
       "\n",
       "    .dataframe thead th {\n",
       "        text-align: right;\n",
       "    }\n",
       "</style>\n",
       "<table border=\"1\" class=\"dataframe\">\n",
       "  <thead>\n",
       "    <tr style=\"text-align: right;\">\n",
       "      <th></th>\n",
       "      <th>start_lat</th>\n",
       "      <th>start_lng</th>\n",
       "      <th>end_lat</th>\n",
       "      <th>end_lng</th>\n",
       "      <th>trip_duration</th>\n",
       "    </tr>\n",
       "  </thead>\n",
       "  <tbody>\n",
       "    <tr>\n",
       "      <td>count</td>\n",
       "      <td>222510.000000</td>\n",
       "      <td>222510.000000</td>\n",
       "      <td>222144.000000</td>\n",
       "      <td>222144.000000</td>\n",
       "      <td>2.225100e+05</td>\n",
       "    </tr>\n",
       "    <tr>\n",
       "      <td>mean</td>\n",
       "      <td>37.716545</td>\n",
       "      <td>-122.334165</td>\n",
       "      <td>37.716465</td>\n",
       "      <td>-122.334461</td>\n",
       "      <td>1.863942e+03</td>\n",
       "    </tr>\n",
       "    <tr>\n",
       "      <td>std</td>\n",
       "      <td>0.158375</td>\n",
       "      <td>0.189933</td>\n",
       "      <td>0.158411</td>\n",
       "      <td>0.190124</td>\n",
       "      <td>2.585972e+04</td>\n",
       "    </tr>\n",
       "    <tr>\n",
       "      <td>min</td>\n",
       "      <td>37.239200</td>\n",
       "      <td>-122.514300</td>\n",
       "      <td>37.004600</td>\n",
       "      <td>-122.559000</td>\n",
       "      <td>-9.200000e+01</td>\n",
       "    </tr>\n",
       "    <tr>\n",
       "      <td>25%</td>\n",
       "      <td>37.759100</td>\n",
       "      <td>-122.432400</td>\n",
       "      <td>37.759100</td>\n",
       "      <td>-122.432300</td>\n",
       "      <td>4.280000e+02</td>\n",
       "    </tr>\n",
       "    <tr>\n",
       "      <td>50%</td>\n",
       "      <td>37.773500</td>\n",
       "      <td>-122.411600</td>\n",
       "      <td>37.773500</td>\n",
       "      <td>-122.411700</td>\n",
       "      <td>8.120000e+02</td>\n",
       "    </tr>\n",
       "    <tr>\n",
       "      <td>75%</td>\n",
       "      <td>37.787300</td>\n",
       "      <td>-122.388100</td>\n",
       "      <td>37.787400</td>\n",
       "      <td>-122.388100</td>\n",
       "      <td>1.575000e+03</td>\n",
       "    </tr>\n",
       "    <tr>\n",
       "      <td>max</td>\n",
       "      <td>37.880200</td>\n",
       "      <td>-121.774600</td>\n",
       "      <td>37.962100</td>\n",
       "      <td>-121.560600</td>\n",
       "      <td>3.283732e+06</td>\n",
       "    </tr>\n",
       "  </tbody>\n",
       "</table>\n",
       "</div>"
      ],
      "text/plain": [
       "           start_lat      start_lng        end_lat        end_lng  \\\n",
       "count  222510.000000  222510.000000  222144.000000  222144.000000   \n",
       "mean       37.716545    -122.334165      37.716465    -122.334461   \n",
       "std         0.158375       0.189933       0.158411       0.190124   \n",
       "min        37.239200    -122.514300      37.004600    -122.559000   \n",
       "25%        37.759100    -122.432400      37.759100    -122.432300   \n",
       "50%        37.773500    -122.411600      37.773500    -122.411700   \n",
       "75%        37.787300    -122.388100      37.787400    -122.388100   \n",
       "max        37.880200    -121.774600      37.962100    -121.560600   \n",
       "\n",
       "       trip_duration  \n",
       "count   2.225100e+05  \n",
       "mean    1.863942e+03  \n",
       "std     2.585972e+04  \n",
       "min    -9.200000e+01  \n",
       "25%     4.280000e+02  \n",
       "50%     8.120000e+02  \n",
       "75%     1.575000e+03  \n",
       "max     3.283732e+06  "
      ]
     },
     "execution_count": 42,
     "metadata": {},
     "output_type": "execute_result"
    }
   ],
   "source": [
    "df_2_clean.describe()"
   ]
  },
  {
   "cell_type": "markdown",
   "metadata": {},
   "source": [
    "**Nb: negative values on the trip_duration column**"
   ]
  },
  {
   "cell_type": "markdown",
   "metadata": {},
   "source": [
    "4. df_1 and df_2 should be concatenated"
   ]
  },
  {
   "cell_type": "markdown",
   "metadata": {},
   "source": [
    "**Define**"
   ]
  },
  {
   "cell_type": "markdown",
   "metadata": {},
   "source": [
    "Concatenate df_1_clean and df_2_clean"
   ]
  },
  {
   "cell_type": "markdown",
   "metadata": {},
   "source": [
    "**Code**"
   ]
  },
  {
   "cell_type": "code",
   "execution_count": 43,
   "metadata": {},
   "outputs": [
    {
     "name": "stderr",
     "output_type": "stream",
     "text": [
      "C:\\Users\\H.E.S\\Anaconda3\\lib\\site-packages\\ipykernel_launcher.py:1: FutureWarning: Sorting because non-concatenation axis is not aligned. A future version\n",
      "of pandas will change to not sort by default.\n",
      "\n",
      "To accept the future behavior, pass 'sort=False'.\n",
      "\n",
      "To retain the current behavior and silence the warning, pass 'sort=True'.\n",
      "\n",
      "  \"\"\"Entry point for launching an IPython kernel.\n"
     ]
    }
   ],
   "source": [
    "df_clean = pd.concat([df_1_clean, df_2_clean])"
   ]
  },
  {
   "cell_type": "markdown",
   "metadata": {},
   "source": [
    "**Test**"
   ]
  },
  {
   "cell_type": "code",
   "execution_count": 44,
   "metadata": {},
   "outputs": [
    {
     "name": "stdout",
     "output_type": "stream",
     "text": [
      "2351411\n",
      "222510\n",
      "2573921\n"
     ]
    }
   ],
   "source": [
    "print(df_1_clean.shape[0])\n",
    "print(df_2_clean.shape[0])\n",
    "print(df_clean.shape[0])"
   ]
  },
  {
   "cell_type": "markdown",
   "metadata": {},
   "source": [
    "#### Quality issues\n",
    "\n",
    "4. Negative trip_duration values in df_2_clean ( nb: this issue will be solved once the trip_duration columns is created for df_2 the tidiness issues phase)"
   ]
  },
  {
   "cell_type": "markdown",
   "metadata": {},
   "source": [
    "**Define**"
   ]
  },
  {
   "cell_type": "markdown",
   "metadata": {},
   "source": [
    "Delete rows with negative trip_duration values. <br>\n",
    "This decision is token because a negative trip_duration value means a false started_at or ended_at value wich are the main features in this exploration  "
   ]
  },
  {
   "cell_type": "markdown",
   "metadata": {},
   "source": [
    "**Code**"
   ]
  },
  {
   "cell_type": "code",
   "execution_count": 45,
   "metadata": {},
   "outputs": [],
   "source": [
    "df_clean = df_clean[df_clean['trip_duration']>0]"
   ]
  },
  {
   "cell_type": "markdown",
   "metadata": {},
   "source": [
    "**Test**"
   ]
  },
  {
   "cell_type": "code",
   "execution_count": 46,
   "metadata": {},
   "outputs": [
    {
     "data": {
      "text/plain": [
       "0"
      ]
     },
     "execution_count": 46,
     "metadata": {},
     "output_type": "execute_result"
    }
   ],
   "source": [
    "df_clean[df_clean['trip_duration']<0].shape[0]"
   ]
  },
  {
   "cell_type": "markdown",
   "metadata": {},
   "source": [
    "5. The trip duration unit is second wich is better to convert to minute\n"
   ]
  },
  {
   "cell_type": "markdown",
   "metadata": {},
   "source": [
    "**Define**"
   ]
  },
  {
   "cell_type": "markdown",
   "metadata": {},
   "source": [
    "Convert trip duration to minute"
   ]
  },
  {
   "cell_type": "markdown",
   "metadata": {},
   "source": [
    "**Code**"
   ]
  },
  {
   "cell_type": "code",
   "execution_count": 47,
   "metadata": {},
   "outputs": [
    {
     "data": {
      "text/plain": [
       "count    2.573582e+06\n",
       "mean     9.101323e+02\n",
       "std      7.822666e+03\n",
       "min      1.000000e+00\n",
       "25%      3.760000e+02\n",
       "50%      6.040000e+02\n",
       "75%      9.550000e+02\n",
       "max      3.283732e+06\n",
       "Name: trip_duration, dtype: float64"
      ]
     },
     "execution_count": 47,
     "metadata": {},
     "output_type": "execute_result"
    }
   ],
   "source": [
    "df_clean['trip_duration'].describe()"
   ]
  },
  {
   "cell_type": "code",
   "execution_count": 48,
   "metadata": {},
   "outputs": [],
   "source": [
    "df_clean['trip_duration'] = df_clean['trip_duration']/60"
   ]
  },
  {
   "cell_type": "markdown",
   "metadata": {},
   "source": [
    "**Test**"
   ]
  },
  {
   "cell_type": "code",
   "execution_count": 49,
   "metadata": {},
   "outputs": [
    {
     "data": {
      "text/plain": [
       "count    2.573582e+06\n",
       "mean     1.516887e+01\n",
       "std      1.303778e+02\n",
       "min      1.666667e-02\n",
       "25%      6.266667e+00\n",
       "50%      1.006667e+01\n",
       "75%      1.591667e+01\n",
       "max      5.472887e+04\n",
       "Name: trip_duration, dtype: float64"
      ]
     },
     "execution_count": 49,
     "metadata": {},
     "output_type": "execute_result"
    }
   ],
   "source": [
    "df_clean['trip_duration'].describe()"
   ]
  },
  {
   "cell_type": "markdown",
   "metadata": {},
   "source": [
    "6. Colums aren't well ordered\n"
   ]
  },
  {
   "cell_type": "markdown",
   "metadata": {},
   "source": [
    "**Define**"
   ]
  },
  {
   "cell_type": "markdown",
   "metadata": {},
   "source": [
    "Order columns"
   ]
  },
  {
   "cell_type": "markdown",
   "metadata": {},
   "source": [
    "**Code**"
   ]
  },
  {
   "cell_type": "code",
   "execution_count": 50,
   "metadata": {},
   "outputs": [],
   "source": [
    "headers = ['bike_ride_id', 'member_casual', 'started_at', 'ended_at', 'trip_duration', 'start_station_name', 'start_station_id', 'start_lat', 'start_lng', 'end_station_name', 'end_station_id', 'end_lat', 'end_lng']\n",
    "df_clean = df_clean[headers]"
   ]
  },
  {
   "cell_type": "markdown",
   "metadata": {},
   "source": [
    "**Test**"
   ]
  },
  {
   "cell_type": "code",
   "execution_count": 51,
   "metadata": {},
   "outputs": [
    {
     "data": {
      "text/html": [
       "<div>\n",
       "<style scoped>\n",
       "    .dataframe tbody tr th:only-of-type {\n",
       "        vertical-align: middle;\n",
       "    }\n",
       "\n",
       "    .dataframe tbody tr th {\n",
       "        vertical-align: top;\n",
       "    }\n",
       "\n",
       "    .dataframe thead th {\n",
       "        text-align: right;\n",
       "    }\n",
       "</style>\n",
       "<table border=\"1\" class=\"dataframe\">\n",
       "  <thead>\n",
       "    <tr style=\"text-align: right;\">\n",
       "      <th></th>\n",
       "      <th>bike_ride_id</th>\n",
       "      <th>member_casual</th>\n",
       "      <th>started_at</th>\n",
       "      <th>ended_at</th>\n",
       "      <th>trip_duration</th>\n",
       "      <th>start_station_name</th>\n",
       "      <th>start_station_id</th>\n",
       "      <th>start_lat</th>\n",
       "      <th>start_lng</th>\n",
       "      <th>end_station_name</th>\n",
       "      <th>end_station_id</th>\n",
       "      <th>end_lat</th>\n",
       "      <th>end_lng</th>\n",
       "    </tr>\n",
       "  </thead>\n",
       "  <tbody>\n",
       "    <tr>\n",
       "      <td>0</td>\n",
       "      <td>1502</td>\n",
       "      <td>member</td>\n",
       "      <td>2019-06-30 18:16:09.773</td>\n",
       "      <td>2019-07-01 16:57:45.592</td>\n",
       "      <td>1361.583333</td>\n",
       "      <td>17th St at Valencia St</td>\n",
       "      <td>109.0</td>\n",
       "      <td>37.763316</td>\n",
       "      <td>-122.421904</td>\n",
       "      <td>Koshland Park</td>\n",
       "      <td>56.0</td>\n",
       "      <td>37.773414</td>\n",
       "      <td>-122.427317</td>\n",
       "    </tr>\n",
       "    <tr>\n",
       "      <td>1</td>\n",
       "      <td>2526</td>\n",
       "      <td>casual</td>\n",
       "      <td>2019-06-30 18:09:55.830</td>\n",
       "      <td>2019-07-01 14:47:36.681</td>\n",
       "      <td>1237.666667</td>\n",
       "      <td>2nd St at Townsend St</td>\n",
       "      <td>50.0</td>\n",
       "      <td>37.780526</td>\n",
       "      <td>-122.390288</td>\n",
       "      <td>15th St at Potrero Ave</td>\n",
       "      <td>101.0</td>\n",
       "      <td>37.767079</td>\n",
       "      <td>-122.407359</td>\n",
       "    </tr>\n",
       "    <tr>\n",
       "      <td>2</td>\n",
       "      <td>2427</td>\n",
       "      <td>member</td>\n",
       "      <td>2019-06-30 15:40:31.038</td>\n",
       "      <td>2019-07-01 08:13:54.349</td>\n",
       "      <td>993.383333</td>\n",
       "      <td>The Embarcadero at Steuart St</td>\n",
       "      <td>23.0</td>\n",
       "      <td>37.791464</td>\n",
       "      <td>-122.391034</td>\n",
       "      <td>San Francisco Caltrain (Townsend St at 4th St)</td>\n",
       "      <td>30.0</td>\n",
       "      <td>37.776598</td>\n",
       "      <td>-122.395282</td>\n",
       "    </tr>\n",
       "    <tr>\n",
       "      <td>3</td>\n",
       "      <td>1261</td>\n",
       "      <td>casual</td>\n",
       "      <td>2019-06-30 12:49:47.781</td>\n",
       "      <td>2019-07-01 07:42:00.543</td>\n",
       "      <td>1132.200000</td>\n",
       "      <td>Bushrod Park</td>\n",
       "      <td>169.0</td>\n",
       "      <td>37.846516</td>\n",
       "      <td>-122.265304</td>\n",
       "      <td>Telegraph Ave at Ashby Ave</td>\n",
       "      <td>248.0</td>\n",
       "      <td>37.855956</td>\n",
       "      <td>-122.259795</td>\n",
       "    </tr>\n",
       "    <tr>\n",
       "      <td>4</td>\n",
       "      <td>1070</td>\n",
       "      <td>casual</td>\n",
       "      <td>2019-06-30 17:21:00.055</td>\n",
       "      <td>2019-07-01 06:55:54.996</td>\n",
       "      <td>814.900000</td>\n",
       "      <td>San Francisco Ferry Building (Harry Bridges Pl...</td>\n",
       "      <td>15.0</td>\n",
       "      <td>37.795392</td>\n",
       "      <td>-122.394203</td>\n",
       "      <td>San Francisco Caltrain (Townsend St at 4th St)</td>\n",
       "      <td>30.0</td>\n",
       "      <td>37.776598</td>\n",
       "      <td>-122.395282</td>\n",
       "    </tr>\n",
       "  </tbody>\n",
       "</table>\n",
       "</div>"
      ],
      "text/plain": [
       "  bike_ride_id member_casual              started_at                ended_at  \\\n",
       "0         1502        member 2019-06-30 18:16:09.773 2019-07-01 16:57:45.592   \n",
       "1         2526        casual 2019-06-30 18:09:55.830 2019-07-01 14:47:36.681   \n",
       "2         2427        member 2019-06-30 15:40:31.038 2019-07-01 08:13:54.349   \n",
       "3         1261        casual 2019-06-30 12:49:47.781 2019-07-01 07:42:00.543   \n",
       "4         1070        casual 2019-06-30 17:21:00.055 2019-07-01 06:55:54.996   \n",
       "\n",
       "   trip_duration                                 start_station_name  \\\n",
       "0    1361.583333                             17th St at Valencia St   \n",
       "1    1237.666667                              2nd St at Townsend St   \n",
       "2     993.383333                      The Embarcadero at Steuart St   \n",
       "3    1132.200000                                       Bushrod Park   \n",
       "4     814.900000  San Francisco Ferry Building (Harry Bridges Pl...   \n",
       "\n",
       "  start_station_id  start_lat   start_lng  \\\n",
       "0            109.0  37.763316 -122.421904   \n",
       "1             50.0  37.780526 -122.390288   \n",
       "2             23.0  37.791464 -122.391034   \n",
       "3            169.0  37.846516 -122.265304   \n",
       "4             15.0  37.795392 -122.394203   \n",
       "\n",
       "                                 end_station_name end_station_id    end_lat  \\\n",
       "0                                   Koshland Park           56.0  37.773414   \n",
       "1                          15th St at Potrero Ave          101.0  37.767079   \n",
       "2  San Francisco Caltrain (Townsend St at 4th St)           30.0  37.776598   \n",
       "3                      Telegraph Ave at Ashby Ave          248.0  37.855956   \n",
       "4  San Francisco Caltrain (Townsend St at 4th St)           30.0  37.776598   \n",
       "\n",
       "      end_lng  \n",
       "0 -122.427317  \n",
       "1 -122.407359  \n",
       "2 -122.395282  \n",
       "3 -122.259795  \n",
       "4 -122.395282  "
      ]
     },
     "execution_count": 51,
     "metadata": {},
     "output_type": "execute_result"
    }
   ],
   "source": [
    "df_clean.head()"
   ]
  },
  {
   "cell_type": "markdown",
   "metadata": {},
   "source": [
    "### 4. Storing data"
   ]
  },
  {
   "cell_type": "code",
   "execution_count": 52,
   "metadata": {},
   "outputs": [],
   "source": [
    "df_clean.to_csv('ford_gobike_system.csv', index = False, header=True)\n"
   ]
  },
  {
   "cell_type": "markdown",
   "metadata": {},
   "source": [
    "# II. Data Exploration"
   ]
  },
  {
   "cell_type": "markdown",
   "metadata": {},
   "source": [
    "### Loading Data"
   ]
  },
  {
   "cell_type": "code",
   "execution_count": 53,
   "metadata": {},
   "outputs": [
    {
     "name": "stderr",
     "output_type": "stream",
     "text": [
      "C:\\Users\\H.E.S\\Anaconda3\\lib\\site-packages\\IPython\\core\\interactiveshell.py:3058: DtypeWarning: Columns (0) have mixed types. Specify dtype option on import or set low_memory=False.\n",
      "  interactivity=interactivity, compiler=compiler, result=result)\n"
     ]
    }
   ],
   "source": [
    "dtype = {'member_casual': 'category'}            # Set member_casual as a categorical variable\n",
    "parse_dates = ['started_at', 'ended_at']         # Set date variable as a datetime datatype \n",
    "df =pd.read_csv('ford_gobike_system.csv', dtype=dtype, parse_dates=parse_dates)   # import the csv respecting datatypes"
   ]
  },
  {
   "cell_type": "markdown",
   "metadata": {},
   "source": [
    "### The structure of the dataset\n",
    "\n",
    "> There are 4702822 trip on the dataset with 13 features ( trip_duration, started_at, ended_at, start_station_id, start_station_name, start_lat, start_lng, start_lng, end_station_id, end_station_name, end_lat, end_lng, bike_ride_id, member_casual ) most variables are object, the trip duration is an 'int' those related to start and end position are 'float', the start time and the end time are 'datetime', and member_casual wich is a categorical variable.\n",
    "\n",
    "### The main features of interest in the dataset\n",
    "\n",
    "> The main feature of interest are : trip_duration, started_at, casual_member.\n",
    "> I'm aslo interseted on the month, the weekday and the daytime of the trip, that's why I'll add a column for each one.  \n",
    "\n",
    "### Susceptible features to help support the investigation into features of interest\n",
    "\n",
    "> The started_at and the trip_duration should help support the investigation."
   ]
  },
  {
   "cell_type": "code",
   "execution_count": 54,
   "metadata": {},
   "outputs": [
    {
     "data": {
      "text/html": [
       "<div>\n",
       "<style scoped>\n",
       "    .dataframe tbody tr th:only-of-type {\n",
       "        vertical-align: middle;\n",
       "    }\n",
       "\n",
       "    .dataframe tbody tr th {\n",
       "        vertical-align: top;\n",
       "    }\n",
       "\n",
       "    .dataframe thead th {\n",
       "        text-align: right;\n",
       "    }\n",
       "</style>\n",
       "<table border=\"1\" class=\"dataframe\">\n",
       "  <thead>\n",
       "    <tr style=\"text-align: right;\">\n",
       "      <th></th>\n",
       "      <th>bike_ride_id</th>\n",
       "      <th>member_casual</th>\n",
       "      <th>started_at</th>\n",
       "      <th>ended_at</th>\n",
       "      <th>trip_duration</th>\n",
       "      <th>start_station_name</th>\n",
       "      <th>start_station_id</th>\n",
       "      <th>start_lat</th>\n",
       "      <th>start_lng</th>\n",
       "      <th>end_station_name</th>\n",
       "      <th>end_station_id</th>\n",
       "      <th>end_lat</th>\n",
       "      <th>end_lng</th>\n",
       "      <th>month</th>\n",
       "      <th>weekday</th>\n",
       "      <th>daytime</th>\n",
       "    </tr>\n",
       "  </thead>\n",
       "  <tbody>\n",
       "    <tr>\n",
       "      <td>0</td>\n",
       "      <td>1502</td>\n",
       "      <td>member</td>\n",
       "      <td>2019-06-30 18:16:09.773</td>\n",
       "      <td>2019-07-01 16:57:45.592</td>\n",
       "      <td>1361.583333</td>\n",
       "      <td>17th St at Valencia St</td>\n",
       "      <td>109.0</td>\n",
       "      <td>37.763316</td>\n",
       "      <td>-122.421904</td>\n",
       "      <td>Koshland Park</td>\n",
       "      <td>56.0</td>\n",
       "      <td>37.773414</td>\n",
       "      <td>-122.427317</td>\n",
       "      <td>2019-06</td>\n",
       "      <td>Sunday</td>\n",
       "      <td>18</td>\n",
       "    </tr>\n",
       "    <tr>\n",
       "      <td>1</td>\n",
       "      <td>2526</td>\n",
       "      <td>casual</td>\n",
       "      <td>2019-06-30 18:09:55.830</td>\n",
       "      <td>2019-07-01 14:47:36.681</td>\n",
       "      <td>1237.666667</td>\n",
       "      <td>2nd St at Townsend St</td>\n",
       "      <td>50.0</td>\n",
       "      <td>37.780526</td>\n",
       "      <td>-122.390288</td>\n",
       "      <td>15th St at Potrero Ave</td>\n",
       "      <td>101.0</td>\n",
       "      <td>37.767079</td>\n",
       "      <td>-122.407359</td>\n",
       "      <td>2019-06</td>\n",
       "      <td>Sunday</td>\n",
       "      <td>18</td>\n",
       "    </tr>\n",
       "    <tr>\n",
       "      <td>2</td>\n",
       "      <td>2427</td>\n",
       "      <td>member</td>\n",
       "      <td>2019-06-30 15:40:31.038</td>\n",
       "      <td>2019-07-01 08:13:54.349</td>\n",
       "      <td>993.383333</td>\n",
       "      <td>The Embarcadero at Steuart St</td>\n",
       "      <td>23.0</td>\n",
       "      <td>37.791464</td>\n",
       "      <td>-122.391034</td>\n",
       "      <td>San Francisco Caltrain (Townsend St at 4th St)</td>\n",
       "      <td>30.0</td>\n",
       "      <td>37.776598</td>\n",
       "      <td>-122.395282</td>\n",
       "      <td>2019-06</td>\n",
       "      <td>Sunday</td>\n",
       "      <td>15</td>\n",
       "    </tr>\n",
       "    <tr>\n",
       "      <td>3</td>\n",
       "      <td>1261</td>\n",
       "      <td>casual</td>\n",
       "      <td>2019-06-30 12:49:47.781</td>\n",
       "      <td>2019-07-01 07:42:00.543</td>\n",
       "      <td>1132.200000</td>\n",
       "      <td>Bushrod Park</td>\n",
       "      <td>169.0</td>\n",
       "      <td>37.846516</td>\n",
       "      <td>-122.265304</td>\n",
       "      <td>Telegraph Ave at Ashby Ave</td>\n",
       "      <td>248.0</td>\n",
       "      <td>37.855956</td>\n",
       "      <td>-122.259795</td>\n",
       "      <td>2019-06</td>\n",
       "      <td>Sunday</td>\n",
       "      <td>12</td>\n",
       "    </tr>\n",
       "    <tr>\n",
       "      <td>4</td>\n",
       "      <td>1070</td>\n",
       "      <td>casual</td>\n",
       "      <td>2019-06-30 17:21:00.055</td>\n",
       "      <td>2019-07-01 06:55:54.996</td>\n",
       "      <td>814.900000</td>\n",
       "      <td>San Francisco Ferry Building (Harry Bridges Pl...</td>\n",
       "      <td>15.0</td>\n",
       "      <td>37.795392</td>\n",
       "      <td>-122.394203</td>\n",
       "      <td>San Francisco Caltrain (Townsend St at 4th St)</td>\n",
       "      <td>30.0</td>\n",
       "      <td>37.776598</td>\n",
       "      <td>-122.395282</td>\n",
       "      <td>2019-06</td>\n",
       "      <td>Sunday</td>\n",
       "      <td>17</td>\n",
       "    </tr>\n",
       "  </tbody>\n",
       "</table>\n",
       "</div>"
      ],
      "text/plain": [
       "  bike_ride_id member_casual              started_at                ended_at  \\\n",
       "0         1502        member 2019-06-30 18:16:09.773 2019-07-01 16:57:45.592   \n",
       "1         2526        casual 2019-06-30 18:09:55.830 2019-07-01 14:47:36.681   \n",
       "2         2427        member 2019-06-30 15:40:31.038 2019-07-01 08:13:54.349   \n",
       "3         1261        casual 2019-06-30 12:49:47.781 2019-07-01 07:42:00.543   \n",
       "4         1070        casual 2019-06-30 17:21:00.055 2019-07-01 06:55:54.996   \n",
       "\n",
       "   trip_duration                                 start_station_name  \\\n",
       "0    1361.583333                             17th St at Valencia St   \n",
       "1    1237.666667                              2nd St at Townsend St   \n",
       "2     993.383333                      The Embarcadero at Steuart St   \n",
       "3    1132.200000                                       Bushrod Park   \n",
       "4     814.900000  San Francisco Ferry Building (Harry Bridges Pl...   \n",
       "\n",
       "   start_station_id  start_lat   start_lng  \\\n",
       "0             109.0  37.763316 -122.421904   \n",
       "1              50.0  37.780526 -122.390288   \n",
       "2              23.0  37.791464 -122.391034   \n",
       "3             169.0  37.846516 -122.265304   \n",
       "4              15.0  37.795392 -122.394203   \n",
       "\n",
       "                                 end_station_name  end_station_id    end_lat  \\\n",
       "0                                   Koshland Park            56.0  37.773414   \n",
       "1                          15th St at Potrero Ave           101.0  37.767079   \n",
       "2  San Francisco Caltrain (Townsend St at 4th St)            30.0  37.776598   \n",
       "3                      Telegraph Ave at Ashby Ave           248.0  37.855956   \n",
       "4  San Francisco Caltrain (Townsend St at 4th St)            30.0  37.776598   \n",
       "\n",
       "      end_lng    month weekday  daytime  \n",
       "0 -122.427317  2019-06  Sunday       18  \n",
       "1 -122.407359  2019-06  Sunday       18  \n",
       "2 -122.395282  2019-06  Sunday       15  \n",
       "3 -122.259795  2019-06  Sunday       12  \n",
       "4 -122.395282  2019-06  Sunday       17  "
      ]
     },
     "execution_count": 54,
     "metadata": {},
     "output_type": "execute_result"
    }
   ],
   "source": [
    "# Creating daytime, weekday and month columns\n",
    "\n",
    "df['month'] = pd.to_datetime(df['started_at']).dt.to_period('M')\n",
    "df['weekday'] = df['started_at'].dt.day_name()\n",
    "df['daytime'] = df['started_at'].dt.hour\n",
    "\n",
    "# Reorder the weekday values\n",
    "df['weekday'] = pd.Categorical(df['weekday'], categories=['Monday','Tuesday','Wednesday','Thursday','Friday','Saturday', 'Sunday'],ordered=True)\n",
    "df.head()"
   ]
  },
  {
   "cell_type": "markdown",
   "metadata": {},
   "source": [
    "## Univariate Exploration\n",
    "\n",
    "> In this section, the distributions of individual variables will be investigated. \n"
   ]
  },
  {
   "cell_type": "markdown",
   "metadata": {},
   "source": [
    "The trip duration"
   ]
  },
  {
   "cell_type": "code",
   "execution_count": 55,
   "metadata": {},
   "outputs": [
    {
     "data": {
      "image/png": "[encoded data removed]",
      "text/plain": [
       "<Figure size 432x288 with 1 Axes>"
      ]
     },
     "metadata": {
      "needs_background": "light"
     },
     "output_type": "display_data"
    }
   ],
   "source": [
    "def exp_trans(x, inverse = False):\n",
    "    \"\"\" transformation helper function \"\"\"\n",
    "    if not inverse:\n",
    "        return np.log(x)\n",
    "    else:\n",
    "        return np.exp(x)    \n",
    "\n",
    "data = df['trip_duration'];\n",
    "bin_edges = np.arange(0, exp_trans(data.max())+0.5, 0.5);\n",
    "sb.distplot(data.apply(exp_trans), bins = bin_edges);\n",
    "tick_locs = np.arange(0, exp_trans(data.max())+2.5, 2.5);\n",
    "plt.xticks(tick_locs, exp_trans(tick_locs, inverse = True).astype(int));\n",
    "plt.xlabel(\"Trip Duration (exp)\");\n",
    "\n",
    "\n"
   ]
  },
  {
   "cell_type": "markdown",
   "metadata": {},
   "source": [
    "With an exponential transformation the trip duration has a normal distribution"
   ]
  },
  {
   "cell_type": "markdown",
   "metadata": {},
   "source": [
    "The **daytime** distribution\n"
   ]
  },
  {
   "cell_type": "code",
   "execution_count": 56,
   "metadata": {},
   "outputs": [
    {
     "data": {
      "text/plain": [
       "Text(0.5, 1.0, 'Daytime Distribution')"
      ]
     },
     "execution_count": 56,
     "metadata": {},
     "output_type": "execute_result"
    },
    {
     "data": {
      "image/png": "[encoded data removed]",
      "text/plain": [
       "<Figure size 432x288 with 1 Axes>"
      ]
     },
     "metadata": {
      "needs_background": "light"
     },
     "output_type": "display_data"
    }
   ],
   "source": [
    "# Start with daytime distribution\n",
    "\n",
    "base_color = sb.color_palette()[0]\n",
    "sb.countplot(data=df, x='daytime', color = base_color);\n",
    "plt.xlabel('Daytime')\n",
    "plt.title('Daytime Distribution')"
   ]
  },
  {
   "cell_type": "markdown",
   "metadata": {},
   "source": [
    "We have a bimodal distribution with some observations :\n",
    "* The two modes are from 08:00 to 10:00 and from 16:00 to 19:00\n",
    "* The number of trips is very low between 00:00 to 06:00\n",
    "* In the rest of the day the frequency is median"
   ]
  },
  {
   "cell_type": "code",
   "execution_count": 57,
   "metadata": {},
   "outputs": [
    {
     "data": {
      "text/plain": [
       "Text(0.5, 1.0, 'Weekday Distribution')"
      ]
     },
     "execution_count": 57,
     "metadata": {},
     "output_type": "execute_result"
    },
    {
     "data": {
      "image/png": "[encoded data removed]",
      "text/plain": [
       "<Figure size 432x288 with 1 Axes>"
      ]
     },
     "metadata": {
      "needs_background": "light"
     },
     "output_type": "display_data"
    }
   ],
   "source": [
    "# The weekday distribution\n",
    "\n",
    "sb.countplot(data=df, x='weekday', color=base_color);\n",
    "plt.xticks(rotation = 15);\n",
    "plt.xlabel('Weekday')\n",
    "plt.title('Weekday Distribution')"
   ]
  },
  {
   "cell_type": "markdown",
   "metadata": {},
   "source": [
    "The number of trip over weekdays is about the same except for the weekend when it's relatively low"
   ]
  },
  {
   "cell_type": "code",
   "execution_count": 58,
   "metadata": {},
   "outputs": [
    {
     "data": {
      "text/plain": [
       "Text(0.5, 1.0, 'Months Distribution')"
      ]
     },
     "execution_count": 58,
     "metadata": {},
     "output_type": "execute_result"
    },
    {
     "data": {
      "image/png": "[encoded data removed]",
      "text/plain": [
       "<Figure size 432x288 with 1 Axes>"
      ]
     },
     "metadata": {
      "needs_background": "light"
     },
     "output_type": "display_data"
    }
   ],
   "source": [
    "# The month distribution\n",
    "\n",
    "base_color = sb.color_palette()[0];\n",
    "sb.countplot(data=df, x ='month', color=base_color);\n",
    "plt.xticks(rotation = 45);\n",
    "plt.xlabel('Month')\n",
    "plt.title('Months Distribution')"
   ]
  },
  {
   "cell_type": "markdown",
   "metadata": {},
   "source": [
    "* The last month of 2019 has the lowest number of trip.   \n",
    "* January and February  2020 was the period with the highest number of trips.\n",
    "* April and Mai 2020 is the period with the lowest number of trips ( it coincide with the starting of the COVID-19 pandemic )."
   ]
  },
  {
   "cell_type": "code",
   "execution_count": 59,
   "metadata": {},
   "outputs": [
    {
     "data": {
      "text/plain": [
       "Text(0.5, 1.0, 'Customer Type Count')"
      ]
     },
     "execution_count": 59,
     "metadata": {},
     "output_type": "execute_result"
    },
    {
     "data": {
      "image/png": "[encoded data removed]",
      "text/plain": [
       "<Figure size 432x288 with 1 Axes>"
      ]
     },
     "metadata": {
      "needs_background": "light"
     },
     "output_type": "display_data"
    }
   ],
   "source": [
    "# number of trips regarding the customer type\n",
    "\n",
    "sb.countplot(data=df, x='member_casual', color=base_color);\n",
    "plt.xlabel(\"Customer Type\");\n",
    "plt.title('Customer Type Count')"
   ]
  },
  {
   "cell_type": "markdown",
   "metadata": {},
   "source": [
    "Number of trips for members is about two times greater than for casual"
   ]
  },
  {
   "cell_type": "markdown",
   "metadata": {},
   "source": [
    "\n",
    "#### The distribution will be discussed regarding each variable separately\n",
    "\n",
    "     * The trip duration : Wit a exponential transformation there is a normal distribution.\n",
    "     * The daytime variable : The distribution is bimodal where there is two picks : from 08 to 09 and from  17 to 18.\n",
    "     * The weekday variable : Total number of trips on the weekend is less than other week days.\n",
    "     * The month variable : The total number of trips decrease in the end of the year 2019, increase remarkably the begining of 2020 (January and February) and decrease again until its minimum on April then increase again\n",
    "     * The member_casual variable (type of customer) : The number of trips all over the year ( from  2019-06 to 2020-05) for member customer are about two times the number for casual customer\n",
    "     \n",
    "\n",
    "\n",
    "> Other observation\n",
    "* The number of trips is low in weekends\n",
    "* The number of trips regarding months was at its max the starting of the 2020 year and decrease outstandingly on Mars, wich is caused by the coronavirus pandemic definetly."
   ]
  },
  {
   "cell_type": "markdown",
   "metadata": {},
   "source": [
    "## Bivariate Exploration\n",
    "In this section some bivariate exploration will be done, the trip duration needs an exponential transformation to get an significant graphs "
   ]
  },
  {
   "cell_type": "markdown",
   "metadata": {},
   "source": [
    "The exponential transformation is already done 'exp_trans', an yticks settings are neeeded"
   ]
  },
  {
   "cell_type": "code",
   "execution_count": 60,
   "metadata": {},
   "outputs": [],
   "source": [
    "# make an exponential transformation for the trip duration values\n",
    "df['trip_duration_exp'] = df['trip_duration'].apply(exp_trans);\n",
    "\n",
    "# Make a function to set the yticks\n",
    "def duration_yticks():\n",
    "    duration_labels = ['1mn', '10mn','2h30mn', '1j', '10j'];\n",
    "    duration_ticks =[1,10,150 ,1440, 14400];        ####\n",
    "    plt.yticks(exp_trans(np.array(duration_ticks)), duration_labels);\n",
    "    plt.ylabel(\"Trip Duration\");"
   ]
  },
  {
   "cell_type": "markdown",
   "metadata": {},
   "source": [
    "The **trip_duration** vs **casual_member**"
   ]
  },
  {
   "cell_type": "code",
   "execution_count": 61,
   "metadata": {},
   "outputs": [
    {
     "data": {
      "image/png": "[encoded data removed]",
      "text/plain": [
       "<Figure size 432x288 with 1 Axes>"
      ]
     },
     "metadata": {
      "needs_background": "light"
     },
     "output_type": "display_data"
    },
    {
     "data": {
      "image/png": "[encoded data removed]",
      "text/plain": [
       "<Figure size 432x288 with 1 Axes>"
      ]
     },
     "metadata": {
      "needs_background": "light"
     },
     "output_type": "display_data"
    }
   ],
   "source": [
    "### plot the trip duration mean as a barchart\n",
    "df[['member_casual', 'trip_duration']].groupby('member_casual').mean().plot(kind='bar', legend=None);\n",
    "plt.xlabel(\"\");\n",
    "plt.ylabel('Trip Duration Mean (minute)');\n",
    "plt.title('Trip Duration Mean for each Customer Type');     \n",
    "plt.show();\n",
    " \n",
    "    \n",
    "\n",
    "### Plot a boxplot of the trip duration regarding the customer type\n",
    "sb.boxplot(data = df, x = 'member_casual', y = 'trip_duration_exp', color = base_color);                \n",
    "\n",
    "# set y ticks and labels\n",
    "duration_yticks()  \n",
    "\n",
    "# set the tilte andx label\n",
    "plt.xlabel(\"Customer Type\");\n",
    "plt.title('Trip Duration Boxplot regarding Customer Type');     \n",
    "\n",
    "plt.show()"
   ]
  },
  {
   "cell_type": "markdown",
   "metadata": {},
   "source": [
    "* The trip_duration distribution spread is a little larger for casual type.\n",
    "* The big difference in the mean is due to big number of upper outliers for casual member type.\n",
    "* The boxplot needed a log transformation"
   ]
  },
  {
   "cell_type": "markdown",
   "metadata": {},
   "source": [
    "trip_duration Vs daytime"
   ]
  },
  {
   "cell_type": "code",
   "execution_count": 62,
   "metadata": {},
   "outputs": [
    {
     "data": {
      "image/png": "[encoded data removed]",
      "text/plain": [
       "<Figure size 432x288 with 1 Axes>"
      ]
     },
     "metadata": {
      "needs_background": "light"
     },
     "output_type": "display_data"
    }
   ],
   "source": [
    "# Set a range from 0 to 23\n",
    "hourly_ticks = np.arange(0,24,1) \n",
    "\n",
    "df[['daytime', 'trip_duration']].groupby('daytime').mean().plot(kind = 'bar', legend=None);\n",
    "plt.xticks(hourly_ticks);\n",
    "plt.ylabel('Trip Duration Mean (minute)');\n",
    "plt.xlabel('Daytime');\n",
    "plt.title('Trip Duration Mean for over Daytime');    "
   ]
  },
  {
   "cell_type": "markdown",
   "metadata": {},
   "source": [
    "Trips starting from 03:00 to 05:00  are more susceptible to be long."
   ]
  },
  {
   "cell_type": "markdown",
   "metadata": {},
   "source": [
    "trip_duration Vs weekday"
   ]
  },
  {
   "cell_type": "code",
   "execution_count": 63,
   "metadata": {},
   "outputs": [
    {
     "data": {
      "image/png": "[encoded data removed]",
      "text/plain": [
       "<Figure size 432x288 with 1 Axes>"
      ]
     },
     "metadata": {
      "needs_background": "light"
     },
     "output_type": "display_data"
    },
    {
     "data": {
      "image/png": "[encoded data removed]",
      "text/plain": [
       "<Figure size 432x288 with 1 Axes>"
      ]
     },
     "metadata": {
      "needs_background": "light"
     },
     "output_type": "display_data"
    }
   ],
   "source": [
    "### Plot the trip duration mean regarding weeldays\n",
    "\n",
    "df[['weekday', 'trip_duration']].groupby('weekday').mean().plot(kind='bar', legend=None);\n",
    "plt.xlabel('Weekday');\n",
    "plt.ylabel('Trip Duration Mean (minute)');\n",
    "plt.title('Trip Duration Mean over weekdays') \n",
    "plt.show()\n",
    "\n",
    "\n",
    "### Plot the trip duration boxplot regarding weedays\n",
    "sb.boxplot(data = df, x = 'weekday', y = 'trip_duration_exp', color = base_color)\n",
    "\n",
    "# set yticks\n",
    "duration_yticks()  \n",
    "# title, xticks rotaion settings\n",
    "plt.title('Trip Duration Boxplot regarding weekdays') \n",
    "plt.xticks(rotation = 15)\n",
    "plt.show()\n"
   ]
  },
  {
   "cell_type": "markdown",
   "metadata": {},
   "source": [
    "The trip duration distribution is about the same over the week except for weekends the spread is few larger , and the duration is more susceptible to be long"
   ]
  },
  {
   "cell_type": "markdown",
   "metadata": {},
   "source": [
    "trip_duration Vs month"
   ]
  },
  {
   "cell_type": "code",
   "execution_count": 64,
   "metadata": {},
   "outputs": [
    {
     "data": {
      "image/png": "[encoded data removed]",
      "text/plain": [
       "<Figure size 432x288 with 1 Axes>"
      ]
     },
     "metadata": {
      "needs_background": "light"
     },
     "output_type": "display_data"
    },
    {
     "data": {
      "image/png": "[encoded data removed]",
      "text/plain": [
       "<Figure size 432x288 with 1 Axes>"
      ]
     },
     "metadata": {
      "needs_background": "light"
     },
     "output_type": "display_data"
    }
   ],
   "source": [
    "# Plot the trip duration mean for each months \n",
    "df[['month', 'trip_duration']].groupby('month').mean().plot(kind='bar', legend=None);\n",
    "plt.xlabel('Months');\n",
    "plt.ylabel('Trip Duration Mean (minute)');\n",
    "plt.title('Trip Duration Mean for each Month');     \n",
    "\n",
    "plt.show();\n",
    "\n",
    "\n",
    "# Plot boxplot of the trip duration over months \n",
    "sb.boxplot(data = df, x = 'month', y = 'trip_duration_exp', color = base_color);\n",
    "\n",
    "# set y ticks and labels\n",
    "duration_yticks();\n",
    "plt.xlabel('Months');\n",
    "plt.title('Trip Duration Boxplot regarding customer type');     \n",
    "plt.xticks(rotation = 25);\n"
   ]
  },
  {
   "cell_type": "markdown",
   "metadata": {},
   "source": [
    "Accordong to months, the last two months the trip duration spread is larger, with a many outliers and the duration is more susceptible to long"
   ]
  },
  {
   "cell_type": "markdown",
   "metadata": {},
   "source": [
    "Type of customer (customer_member) Vs daytime"
   ]
  },
  {
   "cell_type": "code",
   "execution_count": 65,
   "metadata": {},
   "outputs": [
    {
     "data": {
      "image/png": "[encoded data removed]",
      "text/plain": [
       "<Figure size 432x288 with 1 Axes>"
      ]
     },
     "metadata": {
      "needs_background": "light"
     },
     "output_type": "display_data"
    }
   ],
   "source": [
    "ax = sb.countplot(data = df, x = 'daytime', hue = 'member_casual');\n",
    "ax.legend(loc = 1);\n",
    "plt.title('Daytime Distribution for each Customer Type');"
   ]
  },
  {
   "cell_type": "raw",
   "metadata": {},
   "source": [
    "* There is some proportionality between casual type count and member type count over the day time\n",
    "* The distribution for each customer type is bimodal as seen in the univariate exploration phase"
   ]
  },
  {
   "cell_type": "markdown",
   "metadata": {},
   "source": [
    "Type of customer (customer_member) Vs Weekday"
   ]
  },
  {
   "cell_type": "code",
   "execution_count": 66,
   "metadata": {},
   "outputs": [
    {
     "data": {
      "image/png": "[encoded data removed]",
      "text/plain": [
       "<Figure size 432x288 with 1 Axes>"
      ]
     },
     "metadata": {
      "needs_background": "light"
     },
     "output_type": "display_data"
    }
   ],
   "source": [
    "ax = sb.countplot(data = df, x = 'weekday', hue = 'member_casual');\n",
    "ax.legend(loc = 1);\n",
    "plt.xticks(rotation = 15);\n",
    "plt.title('Weekdays Distribution for each Customer Type');\n"
   ]
  },
  {
   "cell_type": "markdown",
   "metadata": {},
   "source": [
    "According to this plot, member type is the category wich influence most the weekday distribution"
   ]
  },
  {
   "cell_type": "markdown",
   "metadata": {},
   "source": [
    "Type of customer (customer_member) Vs month"
   ]
  },
  {
   "cell_type": "code",
   "execution_count": 67,
   "metadata": {},
   "outputs": [
    {
     "data": {
      "image/png": "[encoded data removed]",
      "text/plain": [
       "<Figure size 432x288 with 1 Axes>"
      ]
     },
     "metadata": {
      "needs_background": "light"
     },
     "output_type": "display_data"
    }
   ],
   "source": [
    "ax = sb.countplot(data = df, x = 'month', hue = 'member_casual');\n",
    "ax.legend(loc = 1);\n",
    "plt.xticks(rotation = 25);\n",
    "plt.title('Months Distribution for each Customer Type');\n"
   ]
  },
  {
   "cell_type": "markdown",
   "metadata": {},
   "source": [
    "* There is no proportionality between count member and casual count ( no correlation )\n",
    "* The count for member customer is larger all over the year the two last  month."
   ]
  },
  {
   "cell_type": "markdown",
   "metadata": {},
   "source": [
    "### Relationship between variables \n",
    "\n",
    "> The trip duration distribution:\n",
    "\n",
    "* The distribution spread is larger for casual type than member type and the duration is susceptible to be longer\n",
    "* The trips starting from 03:00 to 05:00 are more susceptible to be long\n",
    "* Regarding weekdays the distribution is about the same except for the weekend the distribution spread is few larger in addition to many outlier and the duration is more susceptible to be long.\n",
    "* Regarding months the two last months the distribution spread is larger, and the the trip duration is susceptible to longer.\n",
    "\n",
    "### Interesting Observation\n",
    "\n",
    "> There is an negative correlation between the trip_duration mean and the trip count (when trip_duration mean is high the trip count is low)\n",
    "wich is an interesting observation\n"
   ]
  },
  {
   "cell_type": "markdown",
   "metadata": {},
   "source": [
    "## Multivariate Exploration\n",
    "\n",
    "> Create plots of three or more variables to investigate your data even\n",
    "further. Make sure that your investigations are justified, and follow from\n",
    "your work in the previous sections."
   ]
  },
  {
   "cell_type": "markdown",
   "metadata": {},
   "source": [
    "Trip duration, member_casual and daytime"
   ]
  },
  {
   "cell_type": "code",
   "execution_count": 68,
   "metadata": {},
   "outputs": [
    {
     "data": {
      "image/png": "[encoded data removed]",
      "text/plain": [
       "<Figure size 432x288 with 1 Axes>"
      ]
     },
     "metadata": {
      "needs_background": "light"
     },
     "output_type": "display_data"
    }
   ],
   "source": [
    "df_sub = df[['daytime', 'trip_duration', 'member_casual']].groupby(['daytime', 'member_casual']).mean();\n",
    "df_sub = df_sub.add_suffix('_mean').reset_index();\n",
    "sb.barplot(data = df_sub, x='daytime', y='trip_duration_mean', hue='member_casual');\n",
    "plt.legend(title='Custumer Type');\n",
    "plt.xlabel('Daytime');\n",
    "plt.ylabel('Trip Duration Mean (minute)');\n",
    "plt.title('Trip Duration Mean over Daytime regarding Customer Type');\n"
   ]
  },
  {
   "cell_type": "markdown",
   "metadata": {},
   "source": [
    "The trip duration mean is larger for casual type all over the day"
   ]
  },
  {
   "cell_type": "markdown",
   "metadata": {},
   "source": [
    "Trip duration, member_casual and weekday"
   ]
  },
  {
   "cell_type": "code",
   "execution_count": 69,
   "metadata": {},
   "outputs": [
    {
     "data": {
      "image/png": "[encoded data removed]",
      "text/plain": [
       "<Figure size 432x288 with 1 Axes>"
      ]
     },
     "metadata": {
      "needs_background": "light"
     },
     "output_type": "display_data"
    }
   ],
   "source": [
    "df_sub = df[['weekday', 'trip_duration', 'member_casual']].groupby(['weekday', 'member_casual']).mean()\n",
    "df_sub = df_sub.add_suffix('_mean').reset_index()\n",
    "sb.barplot(data = df_sub, x='weekday', y='trip_duration_mean', hue='member_casual')\n",
    "plt.xticks(rotation=15)\n",
    "plt.legend(title='Custumer Type');\n",
    "plt.xlabel('Weekday');\n",
    "plt.ylabel('Trip Duration Mean (minute)');\n",
    "plt.title('Trip Duration Mean over Weekdays regarding Customer Type');\n"
   ]
  },
  {
   "cell_type": "markdown",
   "metadata": {},
   "source": [
    "Trip duration, member_casual and month"
   ]
  },
  {
   "cell_type": "code",
   "execution_count": 70,
   "metadata": {},
   "outputs": [
    {
     "data": {
      "image/png": "[encoded data removed]",
      "text/plain": [
       "<Figure size 432x288 with 1 Axes>"
      ]
     },
     "metadata": {
      "needs_background": "light"
     },
     "output_type": "display_data"
    }
   ],
   "source": [
    "df_sub = df[['month', 'trip_duration', 'member_casual']].groupby(['month', 'member_casual']).mean()\n",
    "df_sub = df_sub.add_suffix('_mean').reset_index()\n",
    "sb.barplot(data = df_sub, x='month', y='trip_duration_mean', hue='member_casual')\n",
    "plt.xticks(rotation=25)\n",
    "plt.legend(title='Custumer Type');\n",
    "plt.xlabel('Month');\n",
    "plt.ylabel('Trip Duration Mean (minute)');\n",
    "plt.title('Trip Duration Mean over Month regarding Customer Type');"
   ]
  },
  {
   "cell_type": "code",
   "execution_count": 71,
   "metadata": {},
   "outputs": [
    {
     "data": {
      "image/png": "[encoded data removed]",
      "text/plain": [
       "<Figure size 1080x576 with 1 Axes>"
      ]
     },
     "metadata": {
      "needs_background": "light"
     },
     "output_type": "display_data"
    }
   ],
   "source": [
    "plt.figure(figsize=(15,8));\n",
    "\n",
    "sb.boxplot(data=df, x='weekday', y='trip_duration_exp', hue='member_casual');\n",
    "# set y ticks and labels\n",
    "duration_yticks();\n",
    "plt.xticks(rotation = 15);\n",
    "plt.legend(loc=6, bbox_to_anchor = (1.0,0.5));\n",
    "plt.xlabel('Weekday');\n",
    "plt.ylabel('Trip Duration Mean (minute)');\n",
    "plt.title('Trip Duration Mean over Weekdays regarding Customer Type');\n"
   ]
  },
  {
   "cell_type": "markdown",
   "metadata": {},
   "source": [
    "The trip duration is larger the weekend"
   ]
  },
  {
   "cell_type": "markdown",
   "metadata": {},
   "source": [
    "The trip duration is larger the month"
   ]
  },
  {
   "cell_type": "code",
   "execution_count": 72,
   "metadata": {},
   "outputs": [
    {
     "data": {
      "image/png": "[encoded data removed]",
      "text/plain": [
       "<Figure size 1080x576 with 1 Axes>"
      ]
     },
     "metadata": {
      "needs_background": "light"
     },
     "output_type": "display_data"
    }
   ],
   "source": [
    "plt.figure(figsize=(15,8));\n",
    "\n",
    "sb.boxplot(data=df, x='month', y='trip_duration_exp', hue='member_casual');\n",
    "# set y ticks and labels\n",
    "duration_yticks();\n",
    "plt.xticks(rotation = 15);\n",
    "plt.legend(loc=6, bbox_to_anchor = (1.0,0.5));\n",
    "plt.xlabel('Month');\n",
    "plt.ylabel('Trip Duration Mean (minute)');\n",
    "plt.title('Trip Duration Mean over Months regarding Customer Type');"
   ]
  },
  {
   "cell_type": "markdown",
   "metadata": {},
   "source": [
    "The trip duration is more susceptible to long the two last months"
   ]
  },
  {
   "cell_type": "markdown",
   "metadata": {},
   "source": [
    "### Relationship Observation\n",
    "\n",
    "> Trip for casual is more susceptible to be longer than member trip\n",
    "> The weekend and the two last month are more susceptible to be long\n",
    "\n",
    "### Interesting Observation\n",
    "\n",
    "> with the Corona virus pandemic (the two last months) trips are susceptible to be longer"
   ]
  }
 ],
 "metadata": {
  "kernelspec": {
   "display_name": "Python 3",
   "language": "python",
   "name": "python3"
  },
  "language_info": {
   "codemirror_mode": {
    "name": "ipython",
    "version": 3
   },
   "file_extension": ".py",
   "mimetype": "text/x-python",
   "name": "python",
   "nbconvert_exporter": "python",
   "pygments_lexer": "ipython3",
   "version": "3.7.4"
  }
 },
 "nbformat": 4,
 "nbformat_minor": 4
}
